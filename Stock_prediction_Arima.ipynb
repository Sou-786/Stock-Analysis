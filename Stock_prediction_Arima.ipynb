{
  "nbformat": 4,
  "nbformat_minor": 0,
  "metadata": {
    "colab": {
      "name": "Stock prediction_Arima.ipynb",
      "provenance": []
    },
    "kernelspec": {
      "name": "python3",
      "display_name": "Python 3"
    },
    "language_info": {
      "name": "python"
    }
  },
  "cells": [
    {
      "cell_type": "code",
      "metadata": {
        "colab": {
          "base_uri": "https://localhost:8080/"
        },
        "id": "K-p1uPeT-bZh",
        "outputId": "68af2539-ece7-4945-b906-eb8174ef3946"
      },
      "source": [
        "!pip install yfinance"
      ],
      "execution_count": null,
      "outputs": [
        {
          "output_type": "stream",
          "text": [
            "Requirement already satisfied: yfinance in /usr/local/lib/python3.7/dist-packages (0.1.59)\n",
            "Requirement already satisfied: numpy>=1.15 in /usr/local/lib/python3.7/dist-packages (from yfinance) (1.19.5)\n",
            "Requirement already satisfied: lxml>=4.5.1 in /usr/local/lib/python3.7/dist-packages (from yfinance) (4.6.3)\n",
            "Requirement already satisfied: requests>=2.20 in /usr/local/lib/python3.7/dist-packages (from yfinance) (2.23.0)\n",
            "Requirement already satisfied: multitasking>=0.0.7 in /usr/local/lib/python3.7/dist-packages (from yfinance) (0.0.9)\n",
            "Requirement already satisfied: pandas>=0.24 in /usr/local/lib/python3.7/dist-packages (from yfinance) (1.1.5)\n",
            "Requirement already satisfied: chardet<4,>=3.0.2 in /usr/local/lib/python3.7/dist-packages (from requests>=2.20->yfinance) (3.0.4)\n",
            "Requirement already satisfied: idna<3,>=2.5 in /usr/local/lib/python3.7/dist-packages (from requests>=2.20->yfinance) (2.10)\n",
            "Requirement already satisfied: certifi>=2017.4.17 in /usr/local/lib/python3.7/dist-packages (from requests>=2.20->yfinance) (2020.12.5)\n",
            "Requirement already satisfied: urllib3!=1.25.0,!=1.25.1,<1.26,>=1.21.1 in /usr/local/lib/python3.7/dist-packages (from requests>=2.20->yfinance) (1.24.3)\n",
            "Requirement already satisfied: python-dateutil>=2.7.3 in /usr/local/lib/python3.7/dist-packages (from pandas>=0.24->yfinance) (2.8.1)\n",
            "Requirement already satisfied: pytz>=2017.2 in /usr/local/lib/python3.7/dist-packages (from pandas>=0.24->yfinance) (2018.9)\n",
            "Requirement already satisfied: six>=1.5 in /usr/local/lib/python3.7/dist-packages (from python-dateutil>=2.7.3->pandas>=0.24->yfinance) (1.15.0)\n"
          ],
          "name": "stdout"
        }
      ]
    },
    {
      "cell_type": "code",
      "metadata": {
        "colab": {
          "base_uri": "https://localhost:8080/"
        },
        "id": "uIE87fVAKpcH",
        "outputId": "c30cfec4-56cc-477e-80e7-dbb945953a14"
      },
      "source": [
        "pip install pmdarima"
      ],
      "execution_count": null,
      "outputs": [
        {
          "output_type": "stream",
          "text": [
            "Requirement already satisfied: pmdarima in /usr/local/lib/python3.7/dist-packages (1.8.0)\n",
            "Requirement already satisfied: statsmodels!=0.12.0,>=0.11 in /usr/local/lib/python3.7/dist-packages (from pmdarima) (0.12.2)\n",
            "Requirement already satisfied: pandas>=0.19 in /usr/local/lib/python3.7/dist-packages (from pmdarima) (1.1.5)\n",
            "Requirement already satisfied: scipy>=1.3.2 in /usr/local/lib/python3.7/dist-packages (from pmdarima) (1.4.1)\n",
            "Requirement already satisfied: urllib3 in /usr/local/lib/python3.7/dist-packages (from pmdarima) (1.24.3)\n",
            "Requirement already satisfied: Cython<0.29.18,>=0.29 in /usr/local/lib/python3.7/dist-packages (from pmdarima) (0.29.17)\n",
            "Requirement already satisfied: scikit-learn>=0.22 in /usr/local/lib/python3.7/dist-packages (from pmdarima) (0.22.2.post1)\n",
            "Requirement already satisfied: joblib>=0.11 in /usr/local/lib/python3.7/dist-packages (from pmdarima) (1.0.1)\n",
            "Requirement already satisfied: numpy>=1.17.3 in /usr/local/lib/python3.7/dist-packages (from pmdarima) (1.19.5)\n",
            "Requirement already satisfied: setuptools!=50.0.0,>=38.6.0 in /usr/local/lib/python3.7/dist-packages (from pmdarima) (54.2.0)\n",
            "Requirement already satisfied: patsy>=0.5 in /usr/local/lib/python3.7/dist-packages (from statsmodels!=0.12.0,>=0.11->pmdarima) (0.5.1)\n",
            "Requirement already satisfied: python-dateutil>=2.7.3 in /usr/local/lib/python3.7/dist-packages (from pandas>=0.19->pmdarima) (2.8.1)\n",
            "Requirement already satisfied: pytz>=2017.2 in /usr/local/lib/python3.7/dist-packages (from pandas>=0.19->pmdarima) (2018.9)\n",
            "Requirement already satisfied: six in /usr/local/lib/python3.7/dist-packages (from patsy>=0.5->statsmodels!=0.12.0,>=0.11->pmdarima) (1.15.0)\n"
          ],
          "name": "stdout"
        }
      ]
    },
    {
      "cell_type": "code",
      "metadata": {
        "id": "QmEdHXS37ocU"
      },
      "source": [
        "import yfinance as yf\n",
        "import pandas as pd\n",
        "import numpy as np\n",
        "from datetime import datetime\n",
        "import matplotlib.pyplot as plt\n",
        "import seaborn as sns\n",
        "import statsmodels as sm"
      ],
      "execution_count": null,
      "outputs": []
    },
    {
      "cell_type": "code",
      "metadata": {
        "id": "5u03qMBg_ywJ"
      },
      "source": [
        "#set ticker\n",
        "BSE = yf.Ticker(\"^BSESN\")"
      ],
      "execution_count": null,
      "outputs": []
    },
    {
      "cell_type": "code",
      "metadata": {
        "colab": {
          "base_uri": "https://localhost:8080/"
        },
        "id": "Xl9Z84JCBLVV",
        "outputId": "0480e5c2-2c76-4bac-ae04-146ed56ebe61"
      },
      "source": [
        "BSE.info"
      ],
      "execution_count": null,
      "outputs": [
        {
          "output_type": "execute_result",
          "data": {
            "text/plain": [
              "{'algorithm': None,\n",
              " 'ask': 0,\n",
              " 'askSize': 0,\n",
              " 'averageDailyVolume10Day': 10375,\n",
              " 'averageVolume': 17435,\n",
              " 'averageVolume10days': 10375,\n",
              " 'beta': None,\n",
              " 'bid': 0,\n",
              " 'bidSize': 0,\n",
              " 'circulatingSupply': None,\n",
              " 'currency': 'INR',\n",
              " 'dayHigh': 50028.67,\n",
              " 'dayLow': 48580.8,\n",
              " 'dividendRate': None,\n",
              " 'dividendYield': None,\n",
              " 'exDividendDate': None,\n",
              " 'exchange': 'BSE',\n",
              " 'exchangeTimezoneName': 'Asia/Kolkata',\n",
              " 'exchangeTimezoneShortName': 'IST',\n",
              " 'expireDate': None,\n",
              " 'fiftyDayAverage': 50335.527,\n",
              " 'fiftyTwoWeekHigh': 52516.76,\n",
              " 'fiftyTwoWeekLow': 28602.31,\n",
              " 'fiveYearAvgDividendYield': None,\n",
              " 'forwardPE': None,\n",
              " 'fromCurrency': None,\n",
              " 'gmtOffSetMilliseconds': '19800000',\n",
              " 'isEsgPopulated': False,\n",
              " 'lastMarket': None,\n",
              " 'logo_url': '',\n",
              " 'market': 'in_market',\n",
              " 'marketCap': None,\n",
              " 'maxAge': 1,\n",
              " 'maxSupply': None,\n",
              " 'messageBoardId': 'finmb_INDEXBSESN',\n",
              " 'navPrice': None,\n",
              " 'open': 50020.91,\n",
              " 'openInterest': None,\n",
              " 'payoutRatio': None,\n",
              " 'previousClose': 50029.83,\n",
              " 'priceHint': 2,\n",
              " 'priceToSalesTrailing12Months': None,\n",
              " 'quoteType': 'INDEX',\n",
              " 'regularMarketDayHigh': 50028.67,\n",
              " 'regularMarketDayLow': 48580.8,\n",
              " 'regularMarketOpen': 50020.91,\n",
              " 'regularMarketPreviousClose': 50029.83,\n",
              " 'regularMarketPrice': 49159.32,\n",
              " 'regularMarketVolume': 0,\n",
              " 'shortName': 'S&P BSE SENSEX',\n",
              " 'startDate': None,\n",
              " 'strikePrice': None,\n",
              " 'symbol': '^BSESN',\n",
              " 'toCurrency': None,\n",
              " 'totalAssets': None,\n",
              " 'tradeable': False,\n",
              " 'trailingAnnualDividendRate': None,\n",
              " 'trailingAnnualDividendYield': None,\n",
              " 'twoHundredDayAverage': 45837.883,\n",
              " 'volume': 0,\n",
              " 'volume24Hr': None,\n",
              " 'volumeAllCurrencies': None,\n",
              " 'yield': None,\n",
              " 'ytdReturn': None}"
            ]
          },
          "metadata": {
            "tags": []
          },
          "execution_count": 5
        }
      ]
    },
    {
      "cell_type": "code",
      "metadata": {
        "colab": {
          "base_uri": "https://localhost:8080/",
          "height": 225
        },
        "id": "u9SusX4MAUvL",
        "outputId": "f16c7670-8660-4aea-928a-2ebcd83a33a0"
      },
      "source": [
        "# get historical market data\n",
        "hist = BSE.history(start=\"2010-01-01\",  end=\"2021-05-5\")\n",
        "hist.head()"
      ],
      "execution_count": null,
      "outputs": [
        {
          "output_type": "execute_result",
          "data": {
            "text/html": [
              "<div>\n",
              "<style scoped>\n",
              "    .dataframe tbody tr th:only-of-type {\n",
              "        vertical-align: middle;\n",
              "    }\n",
              "\n",
              "    .dataframe tbody tr th {\n",
              "        vertical-align: top;\n",
              "    }\n",
              "\n",
              "    .dataframe thead th {\n",
              "        text-align: right;\n",
              "    }\n",
              "</style>\n",
              "<table border=\"1\" class=\"dataframe\">\n",
              "  <thead>\n",
              "    <tr style=\"text-align: right;\">\n",
              "      <th></th>\n",
              "      <th>Open</th>\n",
              "      <th>High</th>\n",
              "      <th>Low</th>\n",
              "      <th>Close</th>\n",
              "      <th>Volume</th>\n",
              "      <th>Dividends</th>\n",
              "      <th>Stock Splits</th>\n",
              "    </tr>\n",
              "    <tr>\n",
              "      <th>Date</th>\n",
              "      <th></th>\n",
              "      <th></th>\n",
              "      <th></th>\n",
              "      <th></th>\n",
              "      <th></th>\n",
              "      <th></th>\n",
              "      <th></th>\n",
              "    </tr>\n",
              "  </thead>\n",
              "  <tbody>\n",
              "    <tr>\n",
              "      <th>2010-01-04</th>\n",
              "      <td>17473.449219</td>\n",
              "      <td>17582.839844</td>\n",
              "      <td>17378.380859</td>\n",
              "      <td>17558.730469</td>\n",
              "      <td>28200</td>\n",
              "      <td>0</td>\n",
              "      <td>0</td>\n",
              "    </tr>\n",
              "    <tr>\n",
              "      <th>2010-01-05</th>\n",
              "      <td>17555.769531</td>\n",
              "      <td>17729.779297</td>\n",
              "      <td>17555.769531</td>\n",
              "      <td>17686.240234</td>\n",
              "      <td>27000</td>\n",
              "      <td>0</td>\n",
              "      <td>0</td>\n",
              "    </tr>\n",
              "    <tr>\n",
              "      <th>2010-01-06</th>\n",
              "      <td>17719.470703</td>\n",
              "      <td>17790.330078</td>\n",
              "      <td>17636.710938</td>\n",
              "      <td>17701.130859</td>\n",
              "      <td>21400</td>\n",
              "      <td>0</td>\n",
              "      <td>0</td>\n",
              "    </tr>\n",
              "    <tr>\n",
              "      <th>2010-01-07</th>\n",
              "      <td>17701.970703</td>\n",
              "      <td>17733.339844</td>\n",
              "      <td>17566.539062</td>\n",
              "      <td>17615.720703</td>\n",
              "      <td>18000</td>\n",
              "      <td>0</td>\n",
              "      <td>0</td>\n",
              "    </tr>\n",
              "    <tr>\n",
              "      <th>2010-01-08</th>\n",
              "      <td>17603.869141</td>\n",
              "      <td>17658.119141</td>\n",
              "      <td>17508.960938</td>\n",
              "      <td>17540.289062</td>\n",
              "      <td>17200</td>\n",
              "      <td>0</td>\n",
              "      <td>0</td>\n",
              "    </tr>\n",
              "  </tbody>\n",
              "</table>\n",
              "</div>"
            ],
            "text/plain": [
              "                    Open          High  ...  Dividends  Stock Splits\n",
              "Date                                    ...                         \n",
              "2010-01-04  17473.449219  17582.839844  ...          0             0\n",
              "2010-01-05  17555.769531  17729.779297  ...          0             0\n",
              "2010-01-06  17719.470703  17790.330078  ...          0             0\n",
              "2010-01-07  17701.970703  17733.339844  ...          0             0\n",
              "2010-01-08  17603.869141  17658.119141  ...          0             0\n",
              "\n",
              "[5 rows x 7 columns]"
            ]
          },
          "metadata": {
            "tags": []
          },
          "execution_count": 6
        }
      ]
    },
    {
      "cell_type": "code",
      "metadata": {
        "colab": {
          "base_uri": "https://localhost:8080/",
          "height": 225
        },
        "id": "rsfE4sZNG9zD",
        "outputId": "e5388d3e-88b4-4e97-ab53-52b8df97c65b"
      },
      "source": [
        "hist.tail()"
      ],
      "execution_count": null,
      "outputs": [
        {
          "output_type": "execute_result",
          "data": {
            "text/html": [
              "<div>\n",
              "<style scoped>\n",
              "    .dataframe tbody tr th:only-of-type {\n",
              "        vertical-align: middle;\n",
              "    }\n",
              "\n",
              "    .dataframe tbody tr th {\n",
              "        vertical-align: top;\n",
              "    }\n",
              "\n",
              "    .dataframe thead th {\n",
              "        text-align: right;\n",
              "    }\n",
              "</style>\n",
              "<table border=\"1\" class=\"dataframe\">\n",
              "  <thead>\n",
              "    <tr style=\"text-align: right;\">\n",
              "      <th></th>\n",
              "      <th>Open</th>\n",
              "      <th>High</th>\n",
              "      <th>Low</th>\n",
              "      <th>Close</th>\n",
              "      <th>Volume</th>\n",
              "      <th>Dividends</th>\n",
              "      <th>Stock Splits</th>\n",
              "    </tr>\n",
              "    <tr>\n",
              "      <th>Date</th>\n",
              "      <th></th>\n",
              "      <th></th>\n",
              "      <th></th>\n",
              "      <th></th>\n",
              "      <th></th>\n",
              "      <th></th>\n",
              "      <th></th>\n",
              "    </tr>\n",
              "  </thead>\n",
              "  <tbody>\n",
              "    <tr>\n",
              "      <th>2021-03-26</th>\n",
              "      <td>48969.250000</td>\n",
              "      <td>49234.660156</td>\n",
              "      <td>48699.910156</td>\n",
              "      <td>49008.500000</td>\n",
              "      <td>10600</td>\n",
              "      <td>0</td>\n",
              "      <td>0</td>\n",
              "    </tr>\n",
              "    <tr>\n",
              "      <th>2021-03-30</th>\n",
              "      <td>49331.679688</td>\n",
              "      <td>50268.449219</td>\n",
              "      <td>49331.679688</td>\n",
              "      <td>50136.578125</td>\n",
              "      <td>10500</td>\n",
              "      <td>0</td>\n",
              "      <td>0</td>\n",
              "    </tr>\n",
              "    <tr>\n",
              "      <th>2021-03-31</th>\n",
              "      <td>50049.121094</td>\n",
              "      <td>50050.320312</td>\n",
              "      <td>49442.500000</td>\n",
              "      <td>49509.148438</td>\n",
              "      <td>11900</td>\n",
              "      <td>0</td>\n",
              "      <td>0</td>\n",
              "    </tr>\n",
              "    <tr>\n",
              "      <th>2021-04-01</th>\n",
              "      <td>49868.531250</td>\n",
              "      <td>50092.480469</td>\n",
              "      <td>49478.531250</td>\n",
              "      <td>50029.828125</td>\n",
              "      <td>8500</td>\n",
              "      <td>0</td>\n",
              "      <td>0</td>\n",
              "    </tr>\n",
              "    <tr>\n",
              "      <th>2021-04-05</th>\n",
              "      <td>50020.910156</td>\n",
              "      <td>50028.671875</td>\n",
              "      <td>48580.800781</td>\n",
              "      <td>49159.320312</td>\n",
              "      <td>0</td>\n",
              "      <td>0</td>\n",
              "      <td>0</td>\n",
              "    </tr>\n",
              "  </tbody>\n",
              "</table>\n",
              "</div>"
            ],
            "text/plain": [
              "                    Open          High  ...  Dividends  Stock Splits\n",
              "Date                                    ...                         \n",
              "2021-03-26  48969.250000  49234.660156  ...          0             0\n",
              "2021-03-30  49331.679688  50268.449219  ...          0             0\n",
              "2021-03-31  50049.121094  50050.320312  ...          0             0\n",
              "2021-04-01  49868.531250  50092.480469  ...          0             0\n",
              "2021-04-05  50020.910156  50028.671875  ...          0             0\n",
              "\n",
              "[5 rows x 7 columns]"
            ]
          },
          "metadata": {
            "tags": []
          },
          "execution_count": 7
        }
      ]
    },
    {
      "cell_type": "code",
      "metadata": {
        "colab": {
          "base_uri": "https://localhost:8080/"
        },
        "id": "RSkXUdVSHA3p",
        "outputId": "f023cbd0-15d5-4558-ffbd-67dc7c57c6b2"
      },
      "source": [
        "hist.shape"
      ],
      "execution_count": null,
      "outputs": [
        {
          "output_type": "execute_result",
          "data": {
            "text/plain": [
              "(2763, 7)"
            ]
          },
          "metadata": {
            "tags": []
          },
          "execution_count": 8
        }
      ]
    },
    {
      "cell_type": "code",
      "metadata": {
        "colab": {
          "base_uri": "https://localhost:8080/"
        },
        "id": "b4n_WeJVJOBN",
        "outputId": "3619c9c1-82e7-45c3-e6c1-9fafdaa2eb51"
      },
      "source": [
        "#check missing values\n",
        "hist.isna().sum()"
      ],
      "execution_count": null,
      "outputs": [
        {
          "output_type": "execute_result",
          "data": {
            "text/plain": [
              "Open            0\n",
              "High            0\n",
              "Low             0\n",
              "Close           0\n",
              "Volume          0\n",
              "Dividends       0\n",
              "Stock Splits    0\n",
              "dtype: int64"
            ]
          },
          "metadata": {
            "tags": []
          },
          "execution_count": 9
        }
      ]
    },
    {
      "cell_type": "code",
      "metadata": {
        "colab": {
          "base_uri": "https://localhost:8080/"
        },
        "id": "BPBdyh-COfU5",
        "outputId": "e45aa41b-7c44-4d9a-f5b2-f87d00af75d5"
      },
      "source": [
        "hist.info()"
      ],
      "execution_count": null,
      "outputs": [
        {
          "output_type": "stream",
          "text": [
            "<class 'pandas.core.frame.DataFrame'>\n",
            "DatetimeIndex: 2763 entries, 2010-01-04 to 2021-04-05\n",
            "Data columns (total 7 columns):\n",
            " #   Column        Non-Null Count  Dtype  \n",
            "---  ------        --------------  -----  \n",
            " 0   Open          2763 non-null   float64\n",
            " 1   High          2763 non-null   float64\n",
            " 2   Low           2763 non-null   float64\n",
            " 3   Close         2763 non-null   float64\n",
            " 4   Volume        2763 non-null   int64  \n",
            " 5   Dividends     2763 non-null   int64  \n",
            " 6   Stock Splits  2763 non-null   int64  \n",
            "dtypes: float64(4), int64(3)\n",
            "memory usage: 172.7 KB\n"
          ],
          "name": "stdout"
        }
      ]
    },
    {
      "cell_type": "code",
      "metadata": {
        "colab": {
          "base_uri": "https://localhost:8080/",
          "height": 385
        },
        "id": "2PdU_ylQQP-x",
        "outputId": "3bdf9e6b-8d58-4ab1-9542-dcc453931057"
      },
      "source": [
        "plt.figure(figsize=(10, 6))\n",
        "hist.Close.plot()\n",
        "plt.ylabel('Close')"
      ],
      "execution_count": null,
      "outputs": [
        {
          "output_type": "execute_result",
          "data": {
            "text/plain": [
              "Text(0, 0.5, 'Close')"
            ]
          },
          "metadata": {
            "tags": []
          },
          "execution_count": 11
        },
        {
          "output_type": "display_data",
          "data": {
            "image/png": "[encoded data removed]",
            "text/plain": [
              "<Figure size 720x432 with 1 Axes>"
            ]
          },
          "metadata": {
            "tags": [],
            "needs_background": "light"
          }
        }
      ]
    },
    {
      "cell_type": "markdown",
      "metadata": {
        "id": "EKuQJrhK-XkS"
      },
      "source": [
        "Training and test datasets:- \n",
        "\n",
        "It is important we do not randomly pick training and testing datasets. In stock price prediction, we have to use the test data always the recent dataset give a better result for our prediction.\n",
        "\n",
        "Training dataset is 80% of the total dataset while the test dataset the remaining 20%.\n",
        "\n",
        "\n",
        "\n"
      ]
    },
    {
      "cell_type": "code",
      "metadata": {
        "id": "3VJ8MMZJ-hEr"
      },
      "source": [
        "X_train = hist[:2210]\n",
        "X_test = hist[2211:]"
      ],
      "execution_count": null,
      "outputs": []
    },
    {
      "cell_type": "code",
      "metadata": {
        "colab": {
          "base_uri": "https://localhost:8080/",
          "height": 465
        },
        "id": "aZpeWNIo_PXu",
        "outputId": "c22bf618-fc8a-449e-c25c-be6c863cdba8"
      },
      "source": [
        "plt.figure(figsize=(12,8));\n",
        "ax =X_train['Close'].plot(grid =True, figsize = (12, 8));\n",
        "X_test['Close'].plot(ax=ax, grid=True);\n",
        "plt.legend(['X_train', 'X_test']);\n",
        "plt.show()"
      ],
      "execution_count": null,
      "outputs": [
        {
          "output_type": "display_data",
          "data": {
            "image/png": "[encoded data removed]",
            "text/plain": [
              "<Figure size 864x576 with 1 Axes>"
            ]
          },
          "metadata": {
            "tags": [],
            "needs_background": "light"
          }
        }
      ]
    },
    {
      "cell_type": "code",
      "metadata": {
        "id": "_Vnuz5mzqikU"
      },
      "source": [
        "### Testing For Stationarity\n",
        "\n",
        "from statsmodels.tsa.stattools import adfuller\n",
        "test_result=adfuller(X_train['Close'])"
      ],
      "execution_count": null,
      "outputs": []
    },
    {
      "cell_type": "code",
      "metadata": {
        "colab": {
          "base_uri": "https://localhost:8080/"
        },
        "id": "Hhg6XV9qsyFc",
        "outputId": "eceb078c-1b87-4db5-e11e-87de235db8ea"
      },
      "source": [
        "#Ho: It is non stationary\n",
        "#H1: It is stationary\n",
        "\n",
        "def adfuller_test(Close):\n",
        "    result=adfuller(Close)\n",
        "    labels = ['ADF Test Statistic','p-value','#Lags Used','Number of Observations Used']\n",
        "    for value,label in zip(result,labels):\n",
        "        print(label+' : '+str(value) )\n",
        "    if result[1] <= 0.05:\n",
        "        print(\"strong evidence against the null hypothesis(Ho), reject the null hypothesis. Data has no unit root and is stationary\")\n",
        "    else:\n",
        "        print(\"weak evidence against null hypothesis, time series has a unit root, indicating it is non-stationary \")\n",
        "\n",
        "adfuller_test(X_train['Close'])        "
      ],
      "execution_count": null,
      "outputs": [
        {
          "output_type": "stream",
          "text": [
            "ADF Test Statistic : -0.19116615182475508\n",
            "p-value : 0.9395664296077475\n",
            "#Lags Used : 1\n",
            "Number of Observations Used : 2208\n",
            "weak evidence against null hypothesis, time series has a unit root, indicating it is non-stationary \n"
          ],
          "name": "stdout"
        }
      ]
    },
    {
      "cell_type": "code",
      "metadata": {
        "colab": {
          "base_uri": "https://localhost:8080/"
        },
        "id": "iXcwAqqFtyC_",
        "outputId": "264d251b-b073-4825-d6eb-72984c776d83"
      },
      "source": [
        "X_train['Close_diff'] = X_train['Close']-X_train['Close'].shift(1)"
      ],
      "execution_count": null,
      "outputs": [
        {
          "output_type": "stream",
          "text": [
            "/usr/local/lib/python3.7/dist-packages/ipykernel_launcher.py:1: SettingWithCopyWarning: \n",
            "A value is trying to be set on a copy of a slice from a DataFrame.\n",
            "Try using .loc[row_indexer,col_indexer] = value instead\n",
            "\n",
            "See the caveats in the documentation: https://pandas.pydata.org/pandas-docs/stable/user_guide/indexing.html#returning-a-view-versus-a-copy\n",
            "  \"\"\"Entry point for launching an IPython kernel.\n"
          ],
          "name": "stderr"
        }
      ]
    },
    {
      "cell_type": "code",
      "metadata": {
        "colab": {
          "base_uri": "https://localhost:8080/",
          "height": 373
        },
        "id": "t-Kewm-6tyF2",
        "outputId": "9f2c2b3d-f7a4-4f3d-9f10-5206bc279ce1"
      },
      "source": [
        "X_train.head(10)"
      ],
      "execution_count": null,
      "outputs": [
        {
          "output_type": "execute_result",
          "data": {
            "text/html": [
              "<div>\n",
              "<style scoped>\n",
              "    .dataframe tbody tr th:only-of-type {\n",
              "        vertical-align: middle;\n",
              "    }\n",
              "\n",
              "    .dataframe tbody tr th {\n",
              "        vertical-align: top;\n",
              "    }\n",
              "\n",
              "    .dataframe thead th {\n",
              "        text-align: right;\n",
              "    }\n",
              "</style>\n",
              "<table border=\"1\" class=\"dataframe\">\n",
              "  <thead>\n",
              "    <tr style=\"text-align: right;\">\n",
              "      <th></th>\n",
              "      <th>Open</th>\n",
              "      <th>High</th>\n",
              "      <th>Low</th>\n",
              "      <th>Close</th>\n",
              "      <th>Volume</th>\n",
              "      <th>Dividends</th>\n",
              "      <th>Stock Splits</th>\n",
              "      <th>Close_diff</th>\n",
              "    </tr>\n",
              "    <tr>\n",
              "      <th>Date</th>\n",
              "      <th></th>\n",
              "      <th></th>\n",
              "      <th></th>\n",
              "      <th></th>\n",
              "      <th></th>\n",
              "      <th></th>\n",
              "      <th></th>\n",
              "      <th></th>\n",
              "    </tr>\n",
              "  </thead>\n",
              "  <tbody>\n",
              "    <tr>\n",
              "      <th>2010-01-04</th>\n",
              "      <td>17473.449219</td>\n",
              "      <td>17582.839844</td>\n",
              "      <td>17378.380859</td>\n",
              "      <td>17558.730469</td>\n",
              "      <td>28200</td>\n",
              "      <td>0</td>\n",
              "      <td>0</td>\n",
              "      <td>NaN</td>\n",
              "    </tr>\n",
              "    <tr>\n",
              "      <th>2010-01-05</th>\n",
              "      <td>17555.769531</td>\n",
              "      <td>17729.779297</td>\n",
              "      <td>17555.769531</td>\n",
              "      <td>17686.240234</td>\n",
              "      <td>27000</td>\n",
              "      <td>0</td>\n",
              "      <td>0</td>\n",
              "      <td>127.509766</td>\n",
              "    </tr>\n",
              "    <tr>\n",
              "      <th>2010-01-06</th>\n",
              "      <td>17719.470703</td>\n",
              "      <td>17790.330078</td>\n",
              "      <td>17636.710938</td>\n",
              "      <td>17701.130859</td>\n",
              "      <td>21400</td>\n",
              "      <td>0</td>\n",
              "      <td>0</td>\n",
              "      <td>14.890625</td>\n",
              "    </tr>\n",
              "    <tr>\n",
              "      <th>2010-01-07</th>\n",
              "      <td>17701.970703</td>\n",
              "      <td>17733.339844</td>\n",
              "      <td>17566.539062</td>\n",
              "      <td>17615.720703</td>\n",
              "      <td>18000</td>\n",
              "      <td>0</td>\n",
              "      <td>0</td>\n",
              "      <td>-85.410156</td>\n",
              "    </tr>\n",
              "    <tr>\n",
              "      <th>2010-01-08</th>\n",
              "      <td>17603.869141</td>\n",
              "      <td>17658.119141</td>\n",
              "      <td>17508.960938</td>\n",
              "      <td>17540.289062</td>\n",
              "      <td>17200</td>\n",
              "      <td>0</td>\n",
              "      <td>0</td>\n",
              "      <td>-75.431641</td>\n",
              "    </tr>\n",
              "    <tr>\n",
              "      <th>2010-01-11</th>\n",
              "      <td>17724.589844</td>\n",
              "      <td>17776.570312</td>\n",
              "      <td>17500.789062</td>\n",
              "      <td>17526.710938</td>\n",
              "      <td>18400</td>\n",
              "      <td>0</td>\n",
              "      <td>0</td>\n",
              "      <td>-13.578125</td>\n",
              "    </tr>\n",
              "    <tr>\n",
              "      <th>2010-01-12</th>\n",
              "      <td>17534.099609</td>\n",
              "      <td>17612.000000</td>\n",
              "      <td>17392.550781</td>\n",
              "      <td>17422.509766</td>\n",
              "      <td>18600</td>\n",
              "      <td>0</td>\n",
              "      <td>0</td>\n",
              "      <td>-104.201172</td>\n",
              "    </tr>\n",
              "    <tr>\n",
              "      <th>2010-01-13</th>\n",
              "      <td>17368.029297</td>\n",
              "      <td>17528.310547</td>\n",
              "      <td>17276.460938</td>\n",
              "      <td>17509.800781</td>\n",
              "      <td>26200</td>\n",
              "      <td>0</td>\n",
              "      <td>0</td>\n",
              "      <td>87.291016</td>\n",
              "    </tr>\n",
              "    <tr>\n",
              "      <th>2010-01-14</th>\n",
              "      <td>17525.710938</td>\n",
              "      <td>17628.039062</td>\n",
              "      <td>17525.710938</td>\n",
              "      <td>17584.869141</td>\n",
              "      <td>23400</td>\n",
              "      <td>0</td>\n",
              "      <td>0</td>\n",
              "      <td>75.068359</td>\n",
              "    </tr>\n",
              "    <tr>\n",
              "      <th>2010-01-15</th>\n",
              "      <td>17604.310547</td>\n",
              "      <td>17639.849609</td>\n",
              "      <td>17529.109375</td>\n",
              "      <td>17554.300781</td>\n",
              "      <td>17600</td>\n",
              "      <td>0</td>\n",
              "      <td>0</td>\n",
              "      <td>-30.568359</td>\n",
              "    </tr>\n",
              "  </tbody>\n",
              "</table>\n",
              "</div>"
            ],
            "text/plain": [
              "                    Open          High  ...  Stock Splits  Close_diff\n",
              "Date                                    ...                          \n",
              "2010-01-04  17473.449219  17582.839844  ...             0         NaN\n",
              "2010-01-05  17555.769531  17729.779297  ...             0  127.509766\n",
              "2010-01-06  17719.470703  17790.330078  ...             0   14.890625\n",
              "2010-01-07  17701.970703  17733.339844  ...             0  -85.410156\n",
              "2010-01-08  17603.869141  17658.119141  ...             0  -75.431641\n",
              "2010-01-11  17724.589844  17776.570312  ...             0  -13.578125\n",
              "2010-01-12  17534.099609  17612.000000  ...             0 -104.201172\n",
              "2010-01-13  17368.029297  17528.310547  ...             0   87.291016\n",
              "2010-01-14  17525.710938  17628.039062  ...             0   75.068359\n",
              "2010-01-15  17604.310547  17639.849609  ...             0  -30.568359\n",
              "\n",
              "[10 rows x 8 columns]"
            ]
          },
          "metadata": {
            "tags": []
          },
          "execution_count": 17
        }
      ]
    },
    {
      "cell_type": "code",
      "metadata": {
        "colab": {
          "base_uri": "https://localhost:8080/"
        },
        "id": "CgxBez9vtyJE",
        "outputId": "f1dc778d-c937-40b1-bd85-069d7b6cbd74"
      },
      "source": [
        "# Again test dickey fuller test\n",
        "adfuller_test(X_train['Close_diff'].dropna())"
      ],
      "execution_count": null,
      "outputs": [
        {
          "output_type": "stream",
          "text": [
            "ADF Test Statistic : -43.745800122868616\n",
            "p-value : 0.0\n",
            "#Lags Used : 0\n",
            "Number of Observations Used : 2208\n",
            "strong evidence against the null hypothesis(Ho), reject the null hypothesis. Data has no unit root and is stationary\n"
          ],
          "name": "stdout"
        }
      ]
    },
    {
      "cell_type": "code",
      "metadata": {
        "colab": {
          "base_uri": "https://localhost:8080/",
          "height": 385
        },
        "id": "clAMoDdtz-U_",
        "outputId": "b9e56e80-3c37-411a-a33c-e8df03bdeafd"
      },
      "source": [
        "#see Stationary\n",
        "plt.figure(figsize=(10, 6))\n",
        "X_train.Close_diff.plot()\n",
        "plt.ylabel('Closed_diff')"
      ],
      "execution_count": null,
      "outputs": [
        {
          "output_type": "execute_result",
          "data": {
            "text/plain": [
              "Text(0, 0.5, 'Closed_diff')"
            ]
          },
          "metadata": {
            "tags": []
          },
          "execution_count": 19
        },
        {
          "output_type": "display_data",
          "data": {
            "image/png": "[encoded data removed]",
            "text/plain": [
              "<Figure size 720x432 with 1 Axes>"
            ]
          },
          "metadata": {
            "tags": [],
            "needs_background": "light"
          }
        }
      ]
    },
    {
      "cell_type": "markdown",
      "metadata": {
        "id": "iB5q4F634eER"
      },
      "source": [
        "Auto Regressive Model"
      ]
    },
    {
      "cell_type": "code",
      "metadata": {
        "colab": {
          "base_uri": "https://localhost:8080/",
          "height": 499
        },
        "id": "kwupNc9849KZ",
        "outputId": "107b4c3a-c531-488b-a034-1d0fee73c0fd"
      },
      "source": [
        "import statsmodels as sm\n",
        "from statsmodels.graphics.tsaplots import plot_acf,plot_pacf\n",
        "\n",
        "fig = plt.figure(figsize=(12,8))\n",
        "ax1 = fig.add_subplot(211)\n",
        "fig = sm.graphics.tsaplots.plot_acf(X_train['Close_diff'].dropna(),lags=40,ax=ax1)\n",
        "ax2 = fig.add_subplot(212)\n",
        "fig = sm.graphics.tsaplots.plot_pacf(X_train['Close_diff'].dropna(),lags=40,ax=ax2)"
      ],
      "execution_count": null,
      "outputs": [
        {
          "output_type": "display_data",
          "data": {
            "image/png": "[encoded data removed]",
            "text/plain": [
              "<Figure size 864x576 with 2 Axes>"
            ]
          },
          "metadata": {
            "tags": [],
            "needs_background": "light"
          }
        }
      ]
    },
    {
      "cell_type": "code",
      "metadata": {
        "colab": {
          "base_uri": "https://localhost:8080/",
          "height": 392
        },
        "id": "hlfVP4PtI3Wq",
        "outputId": "9bc74a02-93e2-4e28-db3b-f74a8adeed27"
      },
      "source": [
        "train_log = np.log(X_train['Close']) \n",
        "test_log = np.log(X_test['Close'])\n",
        "\n",
        "mav = train_log.rolling(24).mean() \n",
        "plt.figure(figsize = (10,6))\n",
        "plt.plot(train_log) \n",
        "plt.plot(mav, color = 'red') "
      ],
      "execution_count": null,
      "outputs": [
        {
          "output_type": "execute_result",
          "data": {
            "text/plain": [
              "[<matplotlib.lines.Line2D at 0x7f74d025a4d0>]"
            ]
          },
          "metadata": {
            "tags": []
          },
          "execution_count": 21
        },
        {
          "output_type": "display_data",
          "data": {
            "image/png": "[encoded data removed]",
            "text/plain": [
              "<Figure size 720x432 with 1 Axes>"
            ]
          },
          "metadata": {
            "tags": [],
            "needs_background": "light"
          }
        }
      ]
    },
    {
      "cell_type": "code",
      "metadata": {
        "colab": {
          "base_uri": "https://localhost:8080/"
        },
        "id": "i0P0kHzwJRaN",
        "outputId": "9e3b965d-d641-406e-fa69-05fbf8d0508e"
      },
      "source": [
        "train_log.dropna(inplace = True)\n",
        "test_log.dropna(inplace = True)\n",
        "\n",
        "adfuller_test(train_log)"
      ],
      "execution_count": null,
      "outputs": [
        {
          "output_type": "stream",
          "text": [
            "ADF Test Statistic : -0.5214858458694194\n",
            "p-value : 0.8877550427889989\n",
            "#Lags Used : 1\n",
            "Number of Observations Used : 2208\n",
            "weak evidence against null hypothesis, time series has a unit root, indicating it is non-stationary \n"
          ],
          "name": "stdout"
        }
      ]
    },
    {
      "cell_type": "code",
      "metadata": {
        "colab": {
          "base_uri": "https://localhost:8080/"
        },
        "id": "BAu4s32AJRdv",
        "outputId": "1d83f6c4-ffcd-4a9b-b2b6-975de6405d57"
      },
      "source": [
        "train_log_diff = train_log - mav\n",
        "train_log_diff.dropna(inplace = True)\n",
        "\n",
        "adfuller_test(train_log_diff)"
      ],
      "execution_count": null,
      "outputs": [
        {
          "output_type": "stream",
          "text": [
            "ADF Test Statistic : -10.091509327605936\n",
            "p-value : 1.1189906805454746e-17\n",
            "#Lags Used : 12\n",
            "Number of Observations Used : 2174\n",
            "strong evidence against the null hypothesis(Ho), reject the null hypothesis. Data has no unit root and is stationary\n"
          ],
          "name": "stdout"
        }
      ]
    },
    {
      "cell_type": "code",
      "metadata": {
        "colab": {
          "base_uri": "https://localhost:8080/"
        },
        "id": "rbQNq2F2J9i3",
        "outputId": "ef8369b1-1167-4440-bd4c-498e62186c27"
      },
      "source": [
        "#Using auto arima to make predictions using log data\n",
        "from pmdarima import auto_arima\n",
        "model = auto_arima(train_log, trace = True, error_action = 'ignore', suppress_warnings = True)\n",
        "model.fit(train_log)\n",
        "predictions = model.predict(n_periods = len(X_test))\n",
        "predictions = pd.DataFrame(predictions,index = test_log.index,columns=['Prediction'])"
      ],
      "execution_count": null,
      "outputs": [
        {
          "output_type": "stream",
          "text": [
            "Performing stepwise search to minimize aic\n",
            " ARIMA(2,1,2)(0,0,0)[0] intercept   : AIC=-14224.373, Time=1.15 sec\n",
            " ARIMA(0,1,0)(0,0,0)[0] intercept   : AIC=-14221.154, Time=0.28 sec\n",
            " ARIMA(1,1,0)(0,0,0)[0] intercept   : AIC=-14228.316, Time=0.15 sec\n",
            " ARIMA(0,1,1)(0,0,0)[0] intercept   : AIC=-14228.386, Time=0.79 sec\n",
            " ARIMA(0,1,0)(0,0,0)[0]             : AIC=-14220.644, Time=0.14 sec\n",
            " ARIMA(1,1,1)(0,0,0)[0] intercept   : AIC=-14226.386, Time=0.94 sec\n",
            " ARIMA(0,1,2)(0,0,0)[0] intercept   : AIC=-14226.387, Time=1.02 sec\n",
            " ARIMA(1,1,2)(0,0,0)[0] intercept   : AIC=-14224.559, Time=0.69 sec\n",
            " ARIMA(0,1,1)(0,0,0)[0]             : AIC=-14228.160, Time=0.13 sec\n",
            "\n",
            "Best model:  ARIMA(0,1,1)(0,0,0)[0] intercept\n",
            "Total fit time: 5.315 seconds\n"
          ],
          "name": "stdout"
        }
      ]
    },
    {
      "cell_type": "code",
      "metadata": {
        "colab": {
          "base_uri": "https://localhost:8080/",
          "height": 313
        },
        "id": "JVMcduAwLx4i",
        "outputId": "cbb41e42-d78b-4d4b-c431-e7ce960eb7d0"
      },
      "source": [
        "plt.plot(train_log, label='Train')\n",
        "plt.plot(test_log, label='Test')\n",
        "plt.plot(predictions, label='Prediction')\n",
        "plt.title('BSESN Stock Price Prediction')\n",
        "plt.xlabel('Time')\n",
        "plt.ylabel('Actual Stock Price')"
      ],
      "execution_count": null,
      "outputs": [
        {
          "output_type": "execute_result",
          "data": {
            "text/plain": [
              "Text(0, 0.5, 'Actual Stock Price')"
            ]
          },
          "metadata": {
            "tags": []
          },
          "execution_count": 27
        },
        {
          "output_type": "display_data",
          "data": {
            "image/png": "[encoded data removed]",
            "text/plain": [
              "<Figure size 432x288 with 1 Axes>"
            ]
          },
          "metadata": {
            "tags": [],
            "needs_background": "light"
          }
        }
      ]
    },
    {
      "cell_type": "code",
      "metadata": {
        "colab": {
          "base_uri": "https://localhost:8080/"
        },
        "id": "IRJPg7ezL69G",
        "outputId": "4219e3d8-9ac4-44e7-cce8-fdf5148cef1d"
      },
      "source": [
        "#Calculating error\n",
        "from sklearn.metrics import mean_squared_error\n",
        "rms = np.sqrt(mean_squared_error(test_log,predictions))\n",
        "print(\"RMSE : \", rms)"
      ],
      "execution_count": null,
      "outputs": [
        {
          "output_type": "stream",
          "text": [
            "RMSE :  0.11251966799446278\n"
          ],
          "name": "stdout"
        }
      ]
    },
    {
      "cell_type": "code",
      "metadata": {
        "colab": {
          "base_uri": "https://localhost:8080/",
          "height": 406
        },
        "id": "rTNhk9CIQZJk",
        "outputId": "b3898f89-8b09-41ff-dd19-096ba7c9ec52"
      },
      "source": [
        "model.summary()"
      ],
      "execution_count": null,
      "outputs": [
        {
          "output_type": "execute_result",
          "data": {
            "text/html": [
              "<table class=\"simpletable\">\n",
              "<caption>SARIMAX Results</caption>\n",
              "<tr>\n",
              "  <th>Dep. Variable:</th>           <td>y</td>        <th>  No. Observations:  </th>    <td>2209</td>   \n",
              "</tr>\n",
              "<tr>\n",
              "  <th>Model:</th>           <td>SARIMAX(0, 0, 1)</td> <th>  Log Likelihood     </th> <td>-15062.269</td>\n",
              "</tr>\n",
              "<tr>\n",
              "  <th>Date:</th>            <td>Mon, 05 Apr 2021</td> <th>  AIC                </th>  <td>30130.538</td>\n",
              "</tr>\n",
              "<tr>\n",
              "  <th>Time:</th>                <td>18:18:53</td>     <th>  BIC                </th>  <td>30147.639</td>\n",
              "</tr>\n",
              "<tr>\n",
              "  <th>Sample:</th>                  <td>0</td>        <th>  HQIC               </th>  <td>30136.785</td>\n",
              "</tr>\n",
              "<tr>\n",
              "  <th></th>                      <td> - 2209</td>     <th>                     </th>      <td> </td>    \n",
              "</tr>\n",
              "<tr>\n",
              "  <th>Covariance Type:</th>        <td>opg</td>       <th>                     </th>      <td> </td>    \n",
              "</tr>\n",
              "</table>\n",
              "<table class=\"simpletable\">\n",
              "<tr>\n",
              "      <td></td>         <th>coef</th>     <th>std err</th>      <th>z</th>      <th>P>|z|</th>  <th>[0.025</th>    <th>0.975]</th>  \n",
              "</tr>\n",
              "<tr>\n",
              "  <th>intercept</th> <td>    7.8203</td> <td>    5.144</td> <td>    1.520</td> <td> 0.128</td> <td>   -2.261</td> <td>   17.902</td>\n",
              "</tr>\n",
              "<tr>\n",
              "  <th>ma.L1</th>     <td>    0.0716</td> <td>    0.019</td> <td>    3.761</td> <td> 0.000</td> <td>    0.034</td> <td>    0.109</td>\n",
              "</tr>\n",
              "<tr>\n",
              "  <th>sigma2</th>    <td> 4.906e+04</td> <td> 1062.993</td> <td>   46.155</td> <td> 0.000</td> <td>  4.7e+04</td> <td> 5.11e+04</td>\n",
              "</tr>\n",
              "</table>\n",
              "<table class=\"simpletable\">\n",
              "<tr>\n",
              "  <th>Ljung-Box (L1) (Q):</th>     <td>0.00</td> <th>  Jarque-Bera (JB):  </th> <td>389.26</td>\n",
              "</tr>\n",
              "<tr>\n",
              "  <th>Prob(Q):</th>                <td>0.99</td> <th>  Prob(JB):          </th>  <td>0.00</td> \n",
              "</tr>\n",
              "<tr>\n",
              "  <th>Heteroskedasticity (H):</th> <td>1.45</td> <th>  Skew:              </th>  <td>-0.31</td>\n",
              "</tr>\n",
              "<tr>\n",
              "  <th>Prob(H) (two-sided):</th>    <td>0.00</td> <th>  Kurtosis:          </th>  <td>4.96</td> \n",
              "</tr>\n",
              "</table><br/><br/>Warnings:<br/>[1] Covariance matrix calculated using the outer product of gradients (complex-step)."
            ],
            "text/plain": [
              "<class 'statsmodels.iolib.summary.Summary'>\n",
              "\"\"\"\n",
              "                               SARIMAX Results                                \n",
              "==============================================================================\n",
              "Dep. Variable:                      y   No. Observations:                 2209\n",
              "Model:               SARIMAX(0, 0, 1)   Log Likelihood              -15062.269\n",
              "Date:                Mon, 05 Apr 2021   AIC                          30130.538\n",
              "Time:                        18:18:53   BIC                          30147.639\n",
              "Sample:                             0   HQIC                         30136.785\n",
              "                               - 2209                                         \n",
              "Covariance Type:                  opg                                         \n",
              "==============================================================================\n",
              "                 coef    std err          z      P>|z|      [0.025      0.975]\n",
              "------------------------------------------------------------------------------\n",
              "intercept      7.8203      5.144      1.520      0.128      -2.261      17.902\n",
              "ma.L1          0.0716      0.019      3.761      0.000       0.034       0.109\n",
              "sigma2      4.906e+04   1062.993     46.155      0.000     4.7e+04    5.11e+04\n",
              "===================================================================================\n",
              "Ljung-Box (L1) (Q):                   0.00   Jarque-Bera (JB):               389.26\n",
              "Prob(Q):                              0.99   Prob(JB):                         0.00\n",
              "Heteroskedasticity (H):               1.45   Skew:                            -0.31\n",
              "Prob(H) (two-sided):                  0.00   Kurtosis:                         4.96\n",
              "===================================================================================\n",
              "\n",
              "Warnings:\n",
              "[1] Covariance matrix calculated using the outer product of gradients (complex-step).\n",
              "\"\"\""
            ]
          },
          "metadata": {
            "tags": []
          },
          "execution_count": 43
        }
      ]
    }
  ]
}