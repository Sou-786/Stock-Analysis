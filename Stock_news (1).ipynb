{
  "nbformat": 4,
  "nbformat_minor": 0,
  "metadata": {
    "colab": {
      "name": "Stock_news.ipynb",
      "provenance": []
    },
    "kernelspec": {
      "display_name": "Python 3",
      "name": "python3"
    },
    "language_info": {
      "name": "python"
    }
  },
  "cells": [
    {
      "cell_type": "code",
      "metadata": {
        "id": "T_FGs7reLrEC",
        "colab": {
          "base_uri": "https://localhost:8080/"
        },
        "outputId": "95668b64-8560-418e-becf-972c4d93090c"
      },
      "source": [
        "import pandas as pd\n",
        "import numpy as np\n",
        "import seaborn as sns\n",
        "import matplotlib.pyplot as plt\n",
        "import nltk\n",
        "import re\n",
        "from textblob import TextBlob\n",
        "from nltk.sentiment.vader import SentimentIntensityAnalyzer\n",
        "from sklearn.preprocessing import MinMaxScaler\n",
        "from sklearn.metrics import mean_squared_error\n",
        "from sklearn.model_selection import train_test_split\n",
        "from sklearn.ensemble import RandomForestRegressor, AdaBoostRegressor\n",
        "from sklearn.tree import DecisionTreeRegressor\n",
        "from sklearn.model_selection import RandomizedSearchCV\n",
        "import xgboost\n",
        "import lightgbm"
      ],
      "execution_count": 1,
      "outputs": [
        {
          "output_type": "stream",
          "text": [
            "/usr/local/lib/python3.7/dist-packages/nltk/twitter/__init__.py:20: UserWarning: The twython library has not been installed. Some functionality from the twitter package will not be available.\n",
            "  warnings.warn(\"The twython library has not been installed. \"\n"
          ],
          "name": "stderr"
        }
      ]
    },
    {
      "cell_type": "code",
      "metadata": {
        "colab": {
          "base_uri": "https://localhost:8080/"
        },
        "id": "y6pt5uLLwIZi",
        "outputId": "f745a1e8-26cd-4cc1-f97e-bd45c57698f7"
      },
      "source": [
        "nltk.download('vader_lexicon')"
      ],
      "execution_count": 2,
      "outputs": [
        {
          "output_type": "stream",
          "text": [
            "[nltk_data] Downloading package vader_lexicon to /root/nltk_data...\n",
            "[nltk_data]   Package vader_lexicon is already up-to-date!\n"
          ],
          "name": "stdout"
        },
        {
          "output_type": "execute_result",
          "data": {
            "text/plain": [
              "True"
            ]
          },
          "metadata": {
            "tags": []
          },
          "execution_count": 2
        }
      ]
    },
    {
      "cell_type": "markdown",
      "metadata": {
        "id": "C8M1L7Po_Xst"
      },
      "source": [
        "Textual News Preparation"
      ]
    },
    {
      "cell_type": "code",
      "metadata": {
        "id": "IxI9lEtrdn7_"
      },
      "source": [
        "news_df = pd.read_csv('/content/india-news-headlines.csv')"
      ],
      "execution_count": 3,
      "outputs": []
    },
    {
      "cell_type": "code",
      "metadata": {
        "colab": {
          "base_uri": "https://localhost:8080/"
        },
        "id": "wGt5sq4fdwkt",
        "outputId": "5fa2a702-dd7f-4e8a-c0dc-822cb16f02c9"
      },
      "source": [
        "news_df.shape"
      ],
      "execution_count": 4,
      "outputs": [
        {
          "output_type": "execute_result",
          "data": {
            "text/plain": [
              "(3424067, 3)"
            ]
          },
          "metadata": {
            "tags": []
          },
          "execution_count": 4
        }
      ]
    },
    {
      "cell_type": "code",
      "metadata": {
        "colab": {
          "base_uri": "https://localhost:8080/",
          "height": 202
        },
        "id": "HLbh34hudwoE",
        "outputId": "866dbeb0-5fab-4174-dcd3-35ea387c3c7a"
      },
      "source": [
        "news_df.head()"
      ],
      "execution_count": 5,
      "outputs": [
        {
          "output_type": "execute_result",
          "data": {
            "text/html": [
              "<div>\n",
              "<style scoped>\n",
              "    .dataframe tbody tr th:only-of-type {\n",
              "        vertical-align: middle;\n",
              "    }\n",
              "\n",
              "    .dataframe tbody tr th {\n",
              "        vertical-align: top;\n",
              "    }\n",
              "\n",
              "    .dataframe thead th {\n",
              "        text-align: right;\n",
              "    }\n",
              "</style>\n",
              "<table border=\"1\" class=\"dataframe\">\n",
              "  <thead>\n",
              "    <tr style=\"text-align: right;\">\n",
              "      <th></th>\n",
              "      <th>publish_date</th>\n",
              "      <th>headline_category</th>\n",
              "      <th>headline_text</th>\n",
              "    </tr>\n",
              "  </thead>\n",
              "  <tbody>\n",
              "    <tr>\n",
              "      <th>0</th>\n",
              "      <td>20010102</td>\n",
              "      <td>unknown</td>\n",
              "      <td>Status quo will not be disturbed at Ayodhya; s...</td>\n",
              "    </tr>\n",
              "    <tr>\n",
              "      <th>1</th>\n",
              "      <td>20010102</td>\n",
              "      <td>unknown</td>\n",
              "      <td>Fissures in Hurriyat over Pak visit</td>\n",
              "    </tr>\n",
              "    <tr>\n",
              "      <th>2</th>\n",
              "      <td>20010102</td>\n",
              "      <td>unknown</td>\n",
              "      <td>America's unwanted heading for India?</td>\n",
              "    </tr>\n",
              "    <tr>\n",
              "      <th>3</th>\n",
              "      <td>20010102</td>\n",
              "      <td>unknown</td>\n",
              "      <td>For bigwigs; it is destination Goa</td>\n",
              "    </tr>\n",
              "    <tr>\n",
              "      <th>4</th>\n",
              "      <td>20010102</td>\n",
              "      <td>unknown</td>\n",
              "      <td>Extra buses to clear tourist traffic</td>\n",
              "    </tr>\n",
              "  </tbody>\n",
              "</table>\n",
              "</div>"
            ],
            "text/plain": [
              "   publish_date  ...                                      headline_text\n",
              "0      20010102  ...  Status quo will not be disturbed at Ayodhya; s...\n",
              "1      20010102  ...                Fissures in Hurriyat over Pak visit\n",
              "2      20010102  ...              America's unwanted heading for India?\n",
              "3      20010102  ...                 For bigwigs; it is destination Goa\n",
              "4      20010102  ...               Extra buses to clear tourist traffic\n",
              "\n",
              "[5 rows x 3 columns]"
            ]
          },
          "metadata": {
            "tags": []
          },
          "execution_count": 5
        }
      ]
    },
    {
      "cell_type": "code",
      "metadata": {
        "id": "jHFPZ3tweI_a"
      },
      "source": [
        "news_df.drop('headline_category', axis=1, inplace=True)\n",
        "news_df = news_df.rename(columns={'publish_date':'Date', 'headline_text':'News'}, inplace=False)"
      ],
      "execution_count": 6,
      "outputs": []
    },
    {
      "cell_type": "code",
      "metadata": {
        "colab": {
          "base_uri": "https://localhost:8080/",
          "height": 202
        },
        "id": "tUVNZ7pWooG9",
        "outputId": "c4e30b08-db45-4e75-8393-b210c52c98ea"
      },
      "source": [
        "news_df.head()"
      ],
      "execution_count": 7,
      "outputs": [
        {
          "output_type": "execute_result",
          "data": {
            "text/html": [
              "<div>\n",
              "<style scoped>\n",
              "    .dataframe tbody tr th:only-of-type {\n",
              "        vertical-align: middle;\n",
              "    }\n",
              "\n",
              "    .dataframe tbody tr th {\n",
              "        vertical-align: top;\n",
              "    }\n",
              "\n",
              "    .dataframe thead th {\n",
              "        text-align: right;\n",
              "    }\n",
              "</style>\n",
              "<table border=\"1\" class=\"dataframe\">\n",
              "  <thead>\n",
              "    <tr style=\"text-align: right;\">\n",
              "      <th></th>\n",
              "      <th>Date</th>\n",
              "      <th>News</th>\n",
              "    </tr>\n",
              "  </thead>\n",
              "  <tbody>\n",
              "    <tr>\n",
              "      <th>0</th>\n",
              "      <td>20010102</td>\n",
              "      <td>Status quo will not be disturbed at Ayodhya; s...</td>\n",
              "    </tr>\n",
              "    <tr>\n",
              "      <th>1</th>\n",
              "      <td>20010102</td>\n",
              "      <td>Fissures in Hurriyat over Pak visit</td>\n",
              "    </tr>\n",
              "    <tr>\n",
              "      <th>2</th>\n",
              "      <td>20010102</td>\n",
              "      <td>America's unwanted heading for India?</td>\n",
              "    </tr>\n",
              "    <tr>\n",
              "      <th>3</th>\n",
              "      <td>20010102</td>\n",
              "      <td>For bigwigs; it is destination Goa</td>\n",
              "    </tr>\n",
              "    <tr>\n",
              "      <th>4</th>\n",
              "      <td>20010102</td>\n",
              "      <td>Extra buses to clear tourist traffic</td>\n",
              "    </tr>\n",
              "  </tbody>\n",
              "</table>\n",
              "</div>"
            ],
            "text/plain": [
              "       Date                                               News\n",
              "0  20010102  Status quo will not be disturbed at Ayodhya; s...\n",
              "1  20010102                Fissures in Hurriyat over Pak visit\n",
              "2  20010102              America's unwanted heading for India?\n",
              "3  20010102                 For bigwigs; it is destination Goa\n",
              "4  20010102               Extra buses to clear tourist traffic"
            ]
          },
          "metadata": {
            "tags": []
          },
          "execution_count": 7
        }
      ]
    },
    {
      "cell_type": "code",
      "metadata": {
        "colab": {
          "base_uri": "https://localhost:8080/"
        },
        "id": "gsfn5fAAoqeo",
        "outputId": "9d61dd65-8a60-4422-c5f4-9943d5adcc7c"
      },
      "source": [
        "news_df[\"Date\"] = pd.to_datetime(news_df[\"Date\"],format='%Y%m%d')\n",
        "news_df.info()"
      ],
      "execution_count": 8,
      "outputs": [
        {
          "output_type": "stream",
          "text": [
            "<class 'pandas.core.frame.DataFrame'>\n",
            "RangeIndex: 3424067 entries, 0 to 3424066\n",
            "Data columns (total 2 columns):\n",
            " #   Column  Dtype         \n",
            "---  ------  -----         \n",
            " 0   Date    datetime64[ns]\n",
            " 1   News    object        \n",
            "dtypes: datetime64[ns](1), object(1)\n",
            "memory usage: 52.2+ MB\n"
          ],
          "name": "stdout"
        }
      ]
    },
    {
      "cell_type": "code",
      "metadata": {
        "colab": {
          "base_uri": "https://localhost:8080/",
          "height": 202
        },
        "id": "rLcpxqy8o-8Y",
        "outputId": "285165ba-11f2-4940-9c2d-cba2038d135d"
      },
      "source": [
        "news_df.head()"
      ],
      "execution_count": 9,
      "outputs": [
        {
          "output_type": "execute_result",
          "data": {
            "text/html": [
              "<div>\n",
              "<style scoped>\n",
              "    .dataframe tbody tr th:only-of-type {\n",
              "        vertical-align: middle;\n",
              "    }\n",
              "\n",
              "    .dataframe tbody tr th {\n",
              "        vertical-align: top;\n",
              "    }\n",
              "\n",
              "    .dataframe thead th {\n",
              "        text-align: right;\n",
              "    }\n",
              "</style>\n",
              "<table border=\"1\" class=\"dataframe\">\n",
              "  <thead>\n",
              "    <tr style=\"text-align: right;\">\n",
              "      <th></th>\n",
              "      <th>Date</th>\n",
              "      <th>News</th>\n",
              "    </tr>\n",
              "  </thead>\n",
              "  <tbody>\n",
              "    <tr>\n",
              "      <th>0</th>\n",
              "      <td>2001-01-02</td>\n",
              "      <td>Status quo will not be disturbed at Ayodhya; s...</td>\n",
              "    </tr>\n",
              "    <tr>\n",
              "      <th>1</th>\n",
              "      <td>2001-01-02</td>\n",
              "      <td>Fissures in Hurriyat over Pak visit</td>\n",
              "    </tr>\n",
              "    <tr>\n",
              "      <th>2</th>\n",
              "      <td>2001-01-02</td>\n",
              "      <td>America's unwanted heading for India?</td>\n",
              "    </tr>\n",
              "    <tr>\n",
              "      <th>3</th>\n",
              "      <td>2001-01-02</td>\n",
              "      <td>For bigwigs; it is destination Goa</td>\n",
              "    </tr>\n",
              "    <tr>\n",
              "      <th>4</th>\n",
              "      <td>2001-01-02</td>\n",
              "      <td>Extra buses to clear tourist traffic</td>\n",
              "    </tr>\n",
              "  </tbody>\n",
              "</table>\n",
              "</div>"
            ],
            "text/plain": [
              "        Date                                               News\n",
              "0 2001-01-02  Status quo will not be disturbed at Ayodhya; s...\n",
              "1 2001-01-02                Fissures in Hurriyat over Pak visit\n",
              "2 2001-01-02              America's unwanted heading for India?\n",
              "3 2001-01-02                 For bigwigs; it is destination Goa\n",
              "4 2001-01-02               Extra buses to clear tourist traffic"
            ]
          },
          "metadata": {
            "tags": []
          },
          "execution_count": 9
        }
      ]
    },
    {
      "cell_type": "code",
      "metadata": {
        "id": "g6hYdcavo-_X"
      },
      "source": [
        "# Group the headlines for each day\n",
        "news_df['News'] = news_df.groupby(['Date']).transform(lambda x : ' '.join(x)) \n",
        "news_df = news_df.drop_duplicates() \n",
        "news_df.reset_index(inplace=True,drop=True)"
      ],
      "execution_count": 10,
      "outputs": []
    },
    {
      "cell_type": "code",
      "metadata": {
        "colab": {
          "base_uri": "https://localhost:8080/"
        },
        "id": "tQtIDe77o_CB",
        "outputId": "39e0dbce-cec0-41b8-c38f-5065844abf60"
      },
      "source": [
        "#cheak for missing values\n",
        "news_df.isnull().sum()"
      ],
      "execution_count": 11,
      "outputs": [
        {
          "output_type": "execute_result",
          "data": {
            "text/plain": [
              "Date    0\n",
              "News    0\n",
              "dtype: int64"
            ]
          },
          "metadata": {
            "tags": []
          },
          "execution_count": 11
        }
      ]
    },
    {
      "cell_type": "code",
      "metadata": {
        "colab": {
          "base_uri": "https://localhost:8080/"
        },
        "id": "ZK5nDV5Po_E-",
        "outputId": "15cd7910-e0a5-422f-8eaa-0250fb3888de"
      },
      "source": [
        "news_df.shape"
      ],
      "execution_count": 12,
      "outputs": [
        {
          "output_type": "execute_result",
          "data": {
            "text/plain": [
              "(7262, 2)"
            ]
          },
          "metadata": {
            "tags": []
          },
          "execution_count": 12
        }
      ]
    },
    {
      "cell_type": "markdown",
      "metadata": {
        "id": "qFcT_f8RrMJg"
      },
      "source": [
        "## Stock data Analysis"
      ]
    },
    {
      "cell_type": "code",
      "metadata": {
        "id": "Sn9hcFS2o_Ii"
      },
      "source": [
        "S_df = pd.read_csv('/content/st.csv')"
      ],
      "execution_count": 13,
      "outputs": []
    },
    {
      "cell_type": "code",
      "metadata": {
        "id": "6lNw3E1PrKif"
      },
      "source": [
        "S_df['Date'] = pd.to_datetime(S_df.Date)"
      ],
      "execution_count": 14,
      "outputs": []
    },
    {
      "cell_type": "code",
      "metadata": {
        "colab": {
          "base_uri": "https://localhost:8080/"
        },
        "id": "wfkkeH6trKlC",
        "outputId": "d0189cbc-74a5-49a7-fb7f-3c115a83a5a6"
      },
      "source": [
        "len(S_df)"
      ],
      "execution_count": 15,
      "outputs": [
        {
          "output_type": "execute_result",
          "data": {
            "text/plain": [
              "2763"
            ]
          },
          "metadata": {
            "tags": []
          },
          "execution_count": 15
        }
      ]
    },
    {
      "cell_type": "markdown",
      "metadata": {
        "id": "bED0ROBwr5qW"
      },
      "source": [
        "Remove Unwanted Characters from the News"
      ]
    },
    {
      "cell_type": "code",
      "metadata": {
        "colab": {
          "base_uri": "https://localhost:8080/"
        },
        "id": "12P3m4XdrKn9",
        "outputId": "5b44c73b-8bf6-49d3-a4fa-89ff81f2865b"
      },
      "source": [
        "#removing unwanted characters from the News\n",
        "news_df.replace(\"[^a-zA-Z']\",\" \",regex=True,inplace=True)\n",
        "news_df[\"News\"].head(5)"
      ],
      "execution_count": 16,
      "outputs": [
        {
          "output_type": "execute_result",
          "data": {
            "text/plain": [
              "0    Status quo will not be disturbed at Ayodhya  s...\n",
              "1    Powerless north India gropes in the dark Think...\n",
              "2    The string that pulled Stephen Hawking to Indi...\n",
              "3    Light combat craft takes India into club class...\n",
              "4    Light combat craft takes India into club class...\n",
              "Name: News, dtype: object"
            ]
          },
          "metadata": {
            "tags": []
          },
          "execution_count": 16
        }
      ]
    },
    {
      "cell_type": "markdown",
      "metadata": {
        "id": "sL84qtI0sUs5"
      },
      "source": [
        "\n",
        "\n",
        "\n",
        "## Textual Analysis"
      ]
    },
    {
      "cell_type": "code",
      "metadata": {
        "id": "NQsprEzPrKrC"
      },
      "source": [
        "#Functions to get the subjectivity and polarity\n",
        "def getSubjectivity(text):\n",
        "  return TextBlob(text).sentiment.subjectivity\n",
        "\n",
        "def getPolarity(text):\n",
        "  return  TextBlob(text).sentiment.polarity"
      ],
      "execution_count": 17,
      "outputs": []
    },
    {
      "cell_type": "code",
      "metadata": {
        "colab": {
          "base_uri": "https://localhost:8080/",
          "height": 415
        },
        "id": "HQv7D7wsrKuZ",
        "outputId": "c8b92231-4782-4664-87e7-2770834684a4"
      },
      "source": [
        "#Adding subjectivity and polarity columns\n",
        "news_df['Subjectivity'] = news_df['News'].apply(getSubjectivity)\n",
        "news_df['Polarity'] = news_df['News'].apply(getPolarity)\n",
        "news_df"
      ],
      "execution_count": 18,
      "outputs": [
        {
          "output_type": "execute_result",
          "data": {
            "text/html": [
              "<div>\n",
              "<style scoped>\n",
              "    .dataframe tbody tr th:only-of-type {\n",
              "        vertical-align: middle;\n",
              "    }\n",
              "\n",
              "    .dataframe tbody tr th {\n",
              "        vertical-align: top;\n",
              "    }\n",
              "\n",
              "    .dataframe thead th {\n",
              "        text-align: right;\n",
              "    }\n",
              "</style>\n",
              "<table border=\"1\" class=\"dataframe\">\n",
              "  <thead>\n",
              "    <tr style=\"text-align: right;\">\n",
              "      <th></th>\n",
              "      <th>Date</th>\n",
              "      <th>News</th>\n",
              "      <th>Subjectivity</th>\n",
              "      <th>Polarity</th>\n",
              "    </tr>\n",
              "  </thead>\n",
              "  <tbody>\n",
              "    <tr>\n",
              "      <th>0</th>\n",
              "      <td>2001-01-02</td>\n",
              "      <td>Status quo will not be disturbed at Ayodhya  s...</td>\n",
              "      <td>0.286859</td>\n",
              "      <td>0.143590</td>\n",
              "    </tr>\n",
              "    <tr>\n",
              "      <th>1</th>\n",
              "      <td>2001-01-03</td>\n",
              "      <td>Powerless north India gropes in the dark Think...</td>\n",
              "      <td>0.392857</td>\n",
              "      <td>0.089286</td>\n",
              "    </tr>\n",
              "    <tr>\n",
              "      <th>2</th>\n",
              "      <td>2001-01-04</td>\n",
              "      <td>The string that pulled Stephen Hawking to Indi...</td>\n",
              "      <td>0.445360</td>\n",
              "      <td>0.093039</td>\n",
              "    </tr>\n",
              "    <tr>\n",
              "      <th>3</th>\n",
              "      <td>2001-01-05</td>\n",
              "      <td>Light combat craft takes India into club class...</td>\n",
              "      <td>0.480553</td>\n",
              "      <td>0.264024</td>\n",
              "    </tr>\n",
              "    <tr>\n",
              "      <th>4</th>\n",
              "      <td>2001-01-06</td>\n",
              "      <td>Light combat craft takes India into club class...</td>\n",
              "      <td>0.439394</td>\n",
              "      <td>0.248485</td>\n",
              "    </tr>\n",
              "    <tr>\n",
              "      <th>...</th>\n",
              "      <td>...</td>\n",
              "      <td>...</td>\n",
              "      <td>...</td>\n",
              "      <td>...</td>\n",
              "    </tr>\n",
              "    <tr>\n",
              "      <th>7257</th>\n",
              "      <td>2020-12-27</td>\n",
              "      <td>BigInterview  Dhritiman Chatterjee  Nobody da...</td>\n",
              "      <td>0.392082</td>\n",
              "      <td>0.042978</td>\n",
              "    </tr>\n",
              "    <tr>\n",
              "      <th>7258</th>\n",
              "      <td>2020-12-28</td>\n",
              "      <td>Horoscope Today     December       Check astro...</td>\n",
              "      <td>0.409973</td>\n",
              "      <td>0.071405</td>\n",
              "    </tr>\n",
              "    <tr>\n",
              "      <th>7259</th>\n",
              "      <td>2020-12-29</td>\n",
              "      <td>Man recovers charred remains of 'thief' from h...</td>\n",
              "      <td>0.415684</td>\n",
              "      <td>0.060775</td>\n",
              "    </tr>\n",
              "    <tr>\n",
              "      <th>7260</th>\n",
              "      <td>2020-12-30</td>\n",
              "      <td>Numerology Readings    December       Predicti...</td>\n",
              "      <td>0.436863</td>\n",
              "      <td>0.046930</td>\n",
              "    </tr>\n",
              "    <tr>\n",
              "      <th>7261</th>\n",
              "      <td>2020-12-31</td>\n",
              "      <td>Horoscope Today     December       Check astro...</td>\n",
              "      <td>0.408454</td>\n",
              "      <td>0.091829</td>\n",
              "    </tr>\n",
              "  </tbody>\n",
              "</table>\n",
              "<p>7262 rows × 4 columns</p>\n",
              "</div>"
            ],
            "text/plain": [
              "           Date  ...  Polarity\n",
              "0    2001-01-02  ...  0.143590\n",
              "1    2001-01-03  ...  0.089286\n",
              "2    2001-01-04  ...  0.093039\n",
              "3    2001-01-05  ...  0.264024\n",
              "4    2001-01-06  ...  0.248485\n",
              "...         ...  ...       ...\n",
              "7257 2020-12-27  ...  0.042978\n",
              "7258 2020-12-28  ...  0.071405\n",
              "7259 2020-12-29  ...  0.060775\n",
              "7260 2020-12-30  ...  0.046930\n",
              "7261 2020-12-31  ...  0.091829\n",
              "\n",
              "[7262 rows x 4 columns]"
            ]
          },
          "metadata": {
            "tags": []
          },
          "execution_count": 18
        }
      ]
    },
    {
      "cell_type": "code",
      "metadata": {
        "id": "2Ao0ElqYutVR",
        "colab": {
          "base_uri": "https://localhost:8080/",
          "height": 415
        },
        "outputId": "fa0b0ff8-876f-4f62-8a27-2f326469b879"
      },
      "source": [
        "#Adding sentiment score to news\n",
        "sia = SentimentIntensityAnalyzer()\n",
        "\n",
        "\n",
        "news_df['Compound'] = [sia.polarity_scores(v)['compound'] for v in news_df['News']]\n",
        "news_df['Negative'] = [sia.polarity_scores(v)['neg'] for v in news_df['News']]\n",
        "news_df['Neutral'] = [sia.polarity_scores(v)['neu'] for v in news_df['News']]\n",
        "news_df['Positive'] = [sia.polarity_scores(v)['pos'] for v in news_df['News']]\n",
        "news_df"
      ],
      "execution_count": 19,
      "outputs": [
        {
          "output_type": "execute_result",
          "data": {
            "text/html": [
              "<div>\n",
              "<style scoped>\n",
              "    .dataframe tbody tr th:only-of-type {\n",
              "        vertical-align: middle;\n",
              "    }\n",
              "\n",
              "    .dataframe tbody tr th {\n",
              "        vertical-align: top;\n",
              "    }\n",
              "\n",
              "    .dataframe thead th {\n",
              "        text-align: right;\n",
              "    }\n",
              "</style>\n",
              "<table border=\"1\" class=\"dataframe\">\n",
              "  <thead>\n",
              "    <tr style=\"text-align: right;\">\n",
              "      <th></th>\n",
              "      <th>Date</th>\n",
              "      <th>News</th>\n",
              "      <th>Subjectivity</th>\n",
              "      <th>Polarity</th>\n",
              "      <th>Compound</th>\n",
              "      <th>Negative</th>\n",
              "      <th>Neutral</th>\n",
              "      <th>Positive</th>\n",
              "    </tr>\n",
              "  </thead>\n",
              "  <tbody>\n",
              "    <tr>\n",
              "      <th>0</th>\n",
              "      <td>2001-01-02</td>\n",
              "      <td>Status quo will not be disturbed at Ayodhya  s...</td>\n",
              "      <td>0.286859</td>\n",
              "      <td>0.143590</td>\n",
              "      <td>-0.9792</td>\n",
              "      <td>0.121</td>\n",
              "      <td>0.809</td>\n",
              "      <td>0.071</td>\n",
              "    </tr>\n",
              "    <tr>\n",
              "      <th>1</th>\n",
              "      <td>2001-01-03</td>\n",
              "      <td>Powerless north India gropes in the dark Think...</td>\n",
              "      <td>0.392857</td>\n",
              "      <td>0.089286</td>\n",
              "      <td>-0.8910</td>\n",
              "      <td>0.156</td>\n",
              "      <td>0.735</td>\n",
              "      <td>0.109</td>\n",
              "    </tr>\n",
              "    <tr>\n",
              "      <th>2</th>\n",
              "      <td>2001-01-04</td>\n",
              "      <td>The string that pulled Stephen Hawking to Indi...</td>\n",
              "      <td>0.445360</td>\n",
              "      <td>0.093039</td>\n",
              "      <td>0.7543</td>\n",
              "      <td>0.104</td>\n",
              "      <td>0.792</td>\n",
              "      <td>0.104</td>\n",
              "    </tr>\n",
              "    <tr>\n",
              "      <th>3</th>\n",
              "      <td>2001-01-05</td>\n",
              "      <td>Light combat craft takes India into club class...</td>\n",
              "      <td>0.480553</td>\n",
              "      <td>0.264024</td>\n",
              "      <td>0.9365</td>\n",
              "      <td>0.142</td>\n",
              "      <td>0.696</td>\n",
              "      <td>0.161</td>\n",
              "    </tr>\n",
              "    <tr>\n",
              "      <th>4</th>\n",
              "      <td>2001-01-06</td>\n",
              "      <td>Light combat craft takes India into club class...</td>\n",
              "      <td>0.439394</td>\n",
              "      <td>0.248485</td>\n",
              "      <td>-0.8316</td>\n",
              "      <td>0.214</td>\n",
              "      <td>0.655</td>\n",
              "      <td>0.131</td>\n",
              "    </tr>\n",
              "    <tr>\n",
              "      <th>...</th>\n",
              "      <td>...</td>\n",
              "      <td>...</td>\n",
              "      <td>...</td>\n",
              "      <td>...</td>\n",
              "      <td>...</td>\n",
              "      <td>...</td>\n",
              "      <td>...</td>\n",
              "      <td>...</td>\n",
              "    </tr>\n",
              "    <tr>\n",
              "      <th>7257</th>\n",
              "      <td>2020-12-27</td>\n",
              "      <td>BigInterview  Dhritiman Chatterjee  Nobody da...</td>\n",
              "      <td>0.392082</td>\n",
              "      <td>0.042978</td>\n",
              "      <td>-0.9997</td>\n",
              "      <td>0.129</td>\n",
              "      <td>0.793</td>\n",
              "      <td>0.079</td>\n",
              "    </tr>\n",
              "    <tr>\n",
              "      <th>7258</th>\n",
              "      <td>2020-12-28</td>\n",
              "      <td>Horoscope Today     December       Check astro...</td>\n",
              "      <td>0.409973</td>\n",
              "      <td>0.071405</td>\n",
              "      <td>-0.9998</td>\n",
              "      <td>0.142</td>\n",
              "      <td>0.761</td>\n",
              "      <td>0.097</td>\n",
              "    </tr>\n",
              "    <tr>\n",
              "      <th>7259</th>\n",
              "      <td>2020-12-29</td>\n",
              "      <td>Man recovers charred remains of 'thief' from h...</td>\n",
              "      <td>0.415684</td>\n",
              "      <td>0.060775</td>\n",
              "      <td>-0.9999</td>\n",
              "      <td>0.151</td>\n",
              "      <td>0.753</td>\n",
              "      <td>0.096</td>\n",
              "    </tr>\n",
              "    <tr>\n",
              "      <th>7260</th>\n",
              "      <td>2020-12-30</td>\n",
              "      <td>Numerology Readings    December       Predicti...</td>\n",
              "      <td>0.436863</td>\n",
              "      <td>0.046930</td>\n",
              "      <td>-0.9999</td>\n",
              "      <td>0.146</td>\n",
              "      <td>0.770</td>\n",
              "      <td>0.084</td>\n",
              "    </tr>\n",
              "    <tr>\n",
              "      <th>7261</th>\n",
              "      <td>2020-12-31</td>\n",
              "      <td>Horoscope Today     December       Check astro...</td>\n",
              "      <td>0.408454</td>\n",
              "      <td>0.091829</td>\n",
              "      <td>-0.9998</td>\n",
              "      <td>0.141</td>\n",
              "      <td>0.759</td>\n",
              "      <td>0.100</td>\n",
              "    </tr>\n",
              "  </tbody>\n",
              "</table>\n",
              "<p>7262 rows × 8 columns</p>\n",
              "</div>"
            ],
            "text/plain": [
              "           Date  ... Positive\n",
              "0    2001-01-02  ...    0.071\n",
              "1    2001-01-03  ...    0.109\n",
              "2    2001-01-04  ...    0.104\n",
              "3    2001-01-05  ...    0.161\n",
              "4    2001-01-06  ...    0.131\n",
              "...         ...  ...      ...\n",
              "7257 2020-12-27  ...    0.079\n",
              "7258 2020-12-28  ...    0.097\n",
              "7259 2020-12-29  ...    0.096\n",
              "7260 2020-12-30  ...    0.084\n",
              "7261 2020-12-31  ...    0.100\n",
              "\n",
              "[7262 rows x 8 columns]"
            ]
          },
          "metadata": {
            "tags": []
          },
          "execution_count": 19
        }
      ]
    },
    {
      "cell_type": "markdown",
      "metadata": {
        "id": "TmiwWy5Eyde3"
      },
      "source": [
        "Merge the Historical and Textual Data"
      ]
    },
    {
      "cell_type": "code",
      "metadata": {
        "id": "ghHbtyzOutYp",
        "colab": {
          "base_uri": "https://localhost:8080/",
          "height": 1000
        },
        "outputId": "bac576d4-2ef5-4bed-b13b-eaf8d827b0bd"
      },
      "source": [
        "df_merge = pd.merge(S_df, news_df, how='inner', on='Date')\n",
        "df_merge"
      ],
      "execution_count": 20,
      "outputs": [
        {
          "output_type": "execute_result",
          "data": {
            "text/html": [
              "<div>\n",
              "<style scoped>\n",
              "    .dataframe tbody tr th:only-of-type {\n",
              "        vertical-align: middle;\n",
              "    }\n",
              "\n",
              "    .dataframe tbody tr th {\n",
              "        vertical-align: top;\n",
              "    }\n",
              "\n",
              "    .dataframe thead th {\n",
              "        text-align: right;\n",
              "    }\n",
              "</style>\n",
              "<table border=\"1\" class=\"dataframe\">\n",
              "  <thead>\n",
              "    <tr style=\"text-align: right;\">\n",
              "      <th></th>\n",
              "      <th>Date</th>\n",
              "      <th>Open</th>\n",
              "      <th>High</th>\n",
              "      <th>Low</th>\n",
              "      <th>Close</th>\n",
              "      <th>Volume</th>\n",
              "      <th>Dividends</th>\n",
              "      <th>Stock Splits</th>\n",
              "      <th>News</th>\n",
              "      <th>Subjectivity</th>\n",
              "      <th>Polarity</th>\n",
              "      <th>Compound</th>\n",
              "      <th>Negative</th>\n",
              "      <th>Neutral</th>\n",
              "      <th>Positive</th>\n",
              "    </tr>\n",
              "  </thead>\n",
              "  <tbody>\n",
              "    <tr>\n",
              "      <th>0</th>\n",
              "      <td>2010-01-04</td>\n",
              "      <td>17473.449219</td>\n",
              "      <td>17582.839844</td>\n",
              "      <td>17378.380859</td>\n",
              "      <td>17558.730469</td>\n",
              "      <td>28200</td>\n",
              "      <td>0</td>\n",
              "      <td>0</td>\n",
              "      <td>Bebo Khan't stop loving Chor Bazaari top song ...</td>\n",
              "      <td>0.462011</td>\n",
              "      <td>0.050055</td>\n",
              "      <td>-0.9994</td>\n",
              "      <td>0.154</td>\n",
              "      <td>0.739</td>\n",
              "      <td>0.107</td>\n",
              "    </tr>\n",
              "    <tr>\n",
              "      <th>1</th>\n",
              "      <td>2010-01-05</td>\n",
              "      <td>17555.769531</td>\n",
              "      <td>17729.779297</td>\n",
              "      <td>17555.769531</td>\n",
              "      <td>17686.240234</td>\n",
              "      <td>27000</td>\n",
              "      <td>0</td>\n",
              "      <td>0</td>\n",
              "      <td>Women say no to one night stands MJ's new trac...</td>\n",
              "      <td>0.412185</td>\n",
              "      <td>0.009012</td>\n",
              "      <td>-0.9996</td>\n",
              "      <td>0.144</td>\n",
              "      <td>0.781</td>\n",
              "      <td>0.075</td>\n",
              "    </tr>\n",
              "    <tr>\n",
              "      <th>2</th>\n",
              "      <td>2010-01-06</td>\n",
              "      <td>17719.470703</td>\n",
              "      <td>17790.330078</td>\n",
              "      <td>17636.710938</td>\n",
              "      <td>17701.130859</td>\n",
              "      <td>21400</td>\n",
              "      <td>0</td>\n",
              "      <td>0</td>\n",
              "      <td>Are ladies really THIS safe on Nagpur's buses ...</td>\n",
              "      <td>0.433073</td>\n",
              "      <td>0.051819</td>\n",
              "      <td>-0.9995</td>\n",
              "      <td>0.149</td>\n",
              "      <td>0.753</td>\n",
              "      <td>0.098</td>\n",
              "    </tr>\n",
              "    <tr>\n",
              "      <th>3</th>\n",
              "      <td>2010-01-07</td>\n",
              "      <td>17701.970703</td>\n",
              "      <td>17733.339844</td>\n",
              "      <td>17566.539062</td>\n",
              "      <td>17615.720703</td>\n",
              "      <td>18000</td>\n",
              "      <td>0</td>\n",
              "      <td>0</td>\n",
              "      <td>Dev Patel meets the Pintos Rahman's going gree...</td>\n",
              "      <td>0.408312</td>\n",
              "      <td>0.041015</td>\n",
              "      <td>-0.9998</td>\n",
              "      <td>0.178</td>\n",
              "      <td>0.716</td>\n",
              "      <td>0.105</td>\n",
              "    </tr>\n",
              "    <tr>\n",
              "      <th>4</th>\n",
              "      <td>2010-01-08</td>\n",
              "      <td>17603.869141</td>\n",
              "      <td>17658.119141</td>\n",
              "      <td>17508.960938</td>\n",
              "      <td>17540.289062</td>\n",
              "      <td>17200</td>\n",
              "      <td>0</td>\n",
              "      <td>0</td>\n",
              "      <td>Points table Bicholim fire cell saved    lives...</td>\n",
              "      <td>0.378408</td>\n",
              "      <td>0.033051</td>\n",
              "      <td>-0.9999</td>\n",
              "      <td>0.180</td>\n",
              "      <td>0.724</td>\n",
              "      <td>0.096</td>\n",
              "    </tr>\n",
              "    <tr>\n",
              "      <th>...</th>\n",
              "      <td>...</td>\n",
              "      <td>...</td>\n",
              "      <td>...</td>\n",
              "      <td>...</td>\n",
              "      <td>...</td>\n",
              "      <td>...</td>\n",
              "      <td>...</td>\n",
              "      <td>...</td>\n",
              "      <td>...</td>\n",
              "      <td>...</td>\n",
              "      <td>...</td>\n",
              "      <td>...</td>\n",
              "      <td>...</td>\n",
              "      <td>...</td>\n",
              "      <td>...</td>\n",
              "    </tr>\n",
              "    <tr>\n",
              "      <th>2696</th>\n",
              "      <td>2020-12-24</td>\n",
              "      <td>46743.488281</td>\n",
              "      <td>47053.398438</td>\n",
              "      <td>46539.019531</td>\n",
              "      <td>46973.539062</td>\n",
              "      <td>13700</td>\n",
              "      <td>0</td>\n",
              "      <td>0</td>\n",
              "      <td>How to set the mood for sex during cold winter...</td>\n",
              "      <td>0.387011</td>\n",
              "      <td>0.053569</td>\n",
              "      <td>-0.9985</td>\n",
              "      <td>0.094</td>\n",
              "      <td>0.836</td>\n",
              "      <td>0.070</td>\n",
              "    </tr>\n",
              "    <tr>\n",
              "      <th>2697</th>\n",
              "      <td>2020-12-28</td>\n",
              "      <td>47153.589844</td>\n",
              "      <td>47406.718750</td>\n",
              "      <td>47148.238281</td>\n",
              "      <td>47353.750000</td>\n",
              "      <td>9600</td>\n",
              "      <td>0</td>\n",
              "      <td>0</td>\n",
              "      <td>Horoscope Today     December       Check astro...</td>\n",
              "      <td>0.409973</td>\n",
              "      <td>0.071405</td>\n",
              "      <td>-0.9998</td>\n",
              "      <td>0.142</td>\n",
              "      <td>0.761</td>\n",
              "      <td>0.097</td>\n",
              "    </tr>\n",
              "    <tr>\n",
              "      <th>2698</th>\n",
              "      <td>2020-12-29</td>\n",
              "      <td>47466.621094</td>\n",
              "      <td>47714.550781</td>\n",
              "      <td>47361.898438</td>\n",
              "      <td>47613.078125</td>\n",
              "      <td>12800</td>\n",
              "      <td>0</td>\n",
              "      <td>0</td>\n",
              "      <td>Man recovers charred remains of 'thief' from h...</td>\n",
              "      <td>0.415684</td>\n",
              "      <td>0.060775</td>\n",
              "      <td>-0.9999</td>\n",
              "      <td>0.151</td>\n",
              "      <td>0.753</td>\n",
              "      <td>0.096</td>\n",
              "    </tr>\n",
              "    <tr>\n",
              "      <th>2699</th>\n",
              "      <td>2020-12-30</td>\n",
              "      <td>47789.031250</td>\n",
              "      <td>47807.851562</td>\n",
              "      <td>47358.359375</td>\n",
              "      <td>47746.218750</td>\n",
              "      <td>15600</td>\n",
              "      <td>0</td>\n",
              "      <td>0</td>\n",
              "      <td>Numerology Readings    December       Predicti...</td>\n",
              "      <td>0.436863</td>\n",
              "      <td>0.046930</td>\n",
              "      <td>-0.9999</td>\n",
              "      <td>0.146</td>\n",
              "      <td>0.770</td>\n",
              "      <td>0.084</td>\n",
              "    </tr>\n",
              "    <tr>\n",
              "      <th>2700</th>\n",
              "      <td>2020-12-31</td>\n",
              "      <td>47753.109375</td>\n",
              "      <td>47896.968750</td>\n",
              "      <td>47602.121094</td>\n",
              "      <td>47751.328125</td>\n",
              "      <td>13900</td>\n",
              "      <td>0</td>\n",
              "      <td>0</td>\n",
              "      <td>Horoscope Today     December       Check astro...</td>\n",
              "      <td>0.408454</td>\n",
              "      <td>0.091829</td>\n",
              "      <td>-0.9998</td>\n",
              "      <td>0.141</td>\n",
              "      <td>0.759</td>\n",
              "      <td>0.100</td>\n",
              "    </tr>\n",
              "  </tbody>\n",
              "</table>\n",
              "<p>2701 rows × 15 columns</p>\n",
              "</div>"
            ],
            "text/plain": [
              "           Date          Open          High  ...  Negative  Neutral  Positive\n",
              "0    2010-01-04  17473.449219  17582.839844  ...     0.154    0.739     0.107\n",
              "1    2010-01-05  17555.769531  17729.779297  ...     0.144    0.781     0.075\n",
              "2    2010-01-06  17719.470703  17790.330078  ...     0.149    0.753     0.098\n",
              "3    2010-01-07  17701.970703  17733.339844  ...     0.178    0.716     0.105\n",
              "4    2010-01-08  17603.869141  17658.119141  ...     0.180    0.724     0.096\n",
              "...         ...           ...           ...  ...       ...      ...       ...\n",
              "2696 2020-12-24  46743.488281  47053.398438  ...     0.094    0.836     0.070\n",
              "2697 2020-12-28  47153.589844  47406.718750  ...     0.142    0.761     0.097\n",
              "2698 2020-12-29  47466.621094  47714.550781  ...     0.151    0.753     0.096\n",
              "2699 2020-12-30  47789.031250  47807.851562  ...     0.146    0.770     0.084\n",
              "2700 2020-12-31  47753.109375  47896.968750  ...     0.141    0.759     0.100\n",
              "\n",
              "[2701 rows x 15 columns]"
            ]
          },
          "metadata": {
            "tags": []
          },
          "execution_count": 20
        }
      ]
    },
    {
      "cell_type": "markdown",
      "metadata": {
        "id": "fNQdlnrXyuIH"
      },
      "source": [
        "Create Dataset for Model Training"
      ]
    },
    {
      "cell_type": "code",
      "metadata": {
        "id": "Nn6MxOXKutcL",
        "colab": {
          "base_uri": "https://localhost:8080/",
          "height": 202
        },
        "outputId": "f1924de9-c10c-4568-9f86-76675e3bf5a9"
      },
      "source": [
        "dfmerge = df_merge[['Close','Subjectivity', 'Polarity', 'Compound', 'Negative', 'Neutral', 'Positive']]\n",
        "dfmerge1=dfmerge.copy()\n",
        "dfmerge1.head()"
      ],
      "execution_count": 47,
      "outputs": [
        {
          "output_type": "execute_result",
          "data": {
            "text/html": [
              "<div>\n",
              "<style scoped>\n",
              "    .dataframe tbody tr th:only-of-type {\n",
              "        vertical-align: middle;\n",
              "    }\n",
              "\n",
              "    .dataframe tbody tr th {\n",
              "        vertical-align: top;\n",
              "    }\n",
              "\n",
              "    .dataframe thead th {\n",
              "        text-align: right;\n",
              "    }\n",
              "</style>\n",
              "<table border=\"1\" class=\"dataframe\">\n",
              "  <thead>\n",
              "    <tr style=\"text-align: right;\">\n",
              "      <th></th>\n",
              "      <th>Close</th>\n",
              "      <th>Subjectivity</th>\n",
              "      <th>Polarity</th>\n",
              "      <th>Compound</th>\n",
              "      <th>Negative</th>\n",
              "      <th>Neutral</th>\n",
              "      <th>Positive</th>\n",
              "    </tr>\n",
              "  </thead>\n",
              "  <tbody>\n",
              "    <tr>\n",
              "      <th>0</th>\n",
              "      <td>17558.730469</td>\n",
              "      <td>0.462011</td>\n",
              "      <td>0.050055</td>\n",
              "      <td>-0.9994</td>\n",
              "      <td>0.154</td>\n",
              "      <td>0.739</td>\n",
              "      <td>0.107</td>\n",
              "    </tr>\n",
              "    <tr>\n",
              "      <th>1</th>\n",
              "      <td>17686.240234</td>\n",
              "      <td>0.412185</td>\n",
              "      <td>0.009012</td>\n",
              "      <td>-0.9996</td>\n",
              "      <td>0.144</td>\n",
              "      <td>0.781</td>\n",
              "      <td>0.075</td>\n",
              "    </tr>\n",
              "    <tr>\n",
              "      <th>2</th>\n",
              "      <td>17701.130859</td>\n",
              "      <td>0.433073</td>\n",
              "      <td>0.051819</td>\n",
              "      <td>-0.9995</td>\n",
              "      <td>0.149</td>\n",
              "      <td>0.753</td>\n",
              "      <td>0.098</td>\n",
              "    </tr>\n",
              "    <tr>\n",
              "      <th>3</th>\n",
              "      <td>17615.720703</td>\n",
              "      <td>0.408312</td>\n",
              "      <td>0.041015</td>\n",
              "      <td>-0.9998</td>\n",
              "      <td>0.178</td>\n",
              "      <td>0.716</td>\n",
              "      <td>0.105</td>\n",
              "    </tr>\n",
              "    <tr>\n",
              "      <th>4</th>\n",
              "      <td>17540.289062</td>\n",
              "      <td>0.378408</td>\n",
              "      <td>0.033051</td>\n",
              "      <td>-0.9999</td>\n",
              "      <td>0.180</td>\n",
              "      <td>0.724</td>\n",
              "      <td>0.096</td>\n",
              "    </tr>\n",
              "  </tbody>\n",
              "</table>\n",
              "</div>"
            ],
            "text/plain": [
              "          Close  Subjectivity  Polarity  Compound  Negative  Neutral  Positive\n",
              "0  17558.730469      0.462011  0.050055   -0.9994     0.154    0.739     0.107\n",
              "1  17686.240234      0.412185  0.009012   -0.9996     0.144    0.781     0.075\n",
              "2  17701.130859      0.433073  0.051819   -0.9995     0.149    0.753     0.098\n",
              "3  17615.720703      0.408312  0.041015   -0.9998     0.178    0.716     0.105\n",
              "4  17540.289062      0.378408  0.033051   -0.9999     0.180    0.724     0.096"
            ]
          },
          "metadata": {
            "tags": []
          },
          "execution_count": 47
        }
      ]
    },
    {
      "cell_type": "code",
      "metadata": {
        "colab": {
          "base_uri": "https://localhost:8080/",
          "height": 202
        },
        "id": "_m9i998y8kmN",
        "outputId": "4e4f5212-7585-44d7-fa4b-3dfc2e61235b"
      },
      "source": [
        "scaler = MinMaxScaler()\n",
        "\n",
        "dfmerge1 = pd.DataFrame(scaler.fit_transform(dfmerge1))\n",
        "dfmerge1.columns = dfmerge.columns\n",
        "dfmerge1.head()"
      ],
      "execution_count": 48,
      "outputs": [
        {
          "output_type": "execute_result",
          "data": {
            "text/html": [
              "<div>\n",
              "<style scoped>\n",
              "    .dataframe tbody tr th:only-of-type {\n",
              "        vertical-align: middle;\n",
              "    }\n",
              "\n",
              "    .dataframe tbody tr th {\n",
              "        vertical-align: top;\n",
              "    }\n",
              "\n",
              "    .dataframe thead th {\n",
              "        text-align: right;\n",
              "    }\n",
              "</style>\n",
              "<table border=\"1\" class=\"dataframe\">\n",
              "  <thead>\n",
              "    <tr style=\"text-align: right;\">\n",
              "      <th></th>\n",
              "      <th>Close</th>\n",
              "      <th>Subjectivity</th>\n",
              "      <th>Polarity</th>\n",
              "      <th>Compound</th>\n",
              "      <th>Negative</th>\n",
              "      <th>Neutral</th>\n",
              "      <th>Positive</th>\n",
              "    </tr>\n",
              "  </thead>\n",
              "  <tbody>\n",
              "    <tr>\n",
              "      <th>0</th>\n",
              "      <td>0.073171</td>\n",
              "      <td>0.768548</td>\n",
              "      <td>0.358207</td>\n",
              "      <td>0.00030</td>\n",
              "      <td>0.492647</td>\n",
              "      <td>0.412698</td>\n",
              "      <td>0.450820</td>\n",
              "    </tr>\n",
              "    <tr>\n",
              "      <th>1</th>\n",
              "      <td>0.077086</td>\n",
              "      <td>0.476872</td>\n",
              "      <td>0.119930</td>\n",
              "      <td>0.00020</td>\n",
              "      <td>0.419118</td>\n",
              "      <td>0.634921</td>\n",
              "      <td>0.188525</td>\n",
              "    </tr>\n",
              "    <tr>\n",
              "      <th>2</th>\n",
              "      <td>0.077543</td>\n",
              "      <td>0.599145</td>\n",
              "      <td>0.368450</td>\n",
              "      <td>0.00025</td>\n",
              "      <td>0.455882</td>\n",
              "      <td>0.486772</td>\n",
              "      <td>0.377049</td>\n",
              "    </tr>\n",
              "    <tr>\n",
              "      <th>3</th>\n",
              "      <td>0.074921</td>\n",
              "      <td>0.454195</td>\n",
              "      <td>0.305724</td>\n",
              "      <td>0.00010</td>\n",
              "      <td>0.669118</td>\n",
              "      <td>0.291005</td>\n",
              "      <td>0.434426</td>\n",
              "    </tr>\n",
              "    <tr>\n",
              "      <th>4</th>\n",
              "      <td>0.072605</td>\n",
              "      <td>0.279145</td>\n",
              "      <td>0.259492</td>\n",
              "      <td>0.00005</td>\n",
              "      <td>0.683824</td>\n",
              "      <td>0.333333</td>\n",
              "      <td>0.360656</td>\n",
              "    </tr>\n",
              "  </tbody>\n",
              "</table>\n",
              "</div>"
            ],
            "text/plain": [
              "      Close  Subjectivity  Polarity  Compound  Negative   Neutral  Positive\n",
              "0  0.073171      0.768548  0.358207   0.00030  0.492647  0.412698  0.450820\n",
              "1  0.077086      0.476872  0.119930   0.00020  0.419118  0.634921  0.188525\n",
              "2  0.077543      0.599145  0.368450   0.00025  0.455882  0.486772  0.377049\n",
              "3  0.074921      0.454195  0.305724   0.00010  0.669118  0.291005  0.434426\n",
              "4  0.072605      0.279145  0.259492   0.00005  0.683824  0.333333  0.360656"
            ]
          },
          "metadata": {
            "tags": []
          },
          "execution_count": 48
        }
      ]
    },
    {
      "cell_type": "code",
      "metadata": {
        "id": "ilpjUGunzLxv"
      },
      "source": [
        "X=dfmerge1.drop('Close',axis=1)\n",
        "y=dfmerge1['Close']"
      ],
      "execution_count": 49,
      "outputs": []
    },
    {
      "cell_type": "code",
      "metadata": {
        "id": "FkktoIzXzL0k"
      },
      "source": [
        "#Train Test Split\n",
        "X_train, X_test, y_train, y_test = train_test_split(X, y, test_size=0.2, random_state = 0)"
      ],
      "execution_count": 50,
      "outputs": []
    },
    {
      "cell_type": "markdown",
      "metadata": {
        "id": "y3toYMI4kYco"
      },
      "source": [
        "Random Forest Regressor"
      ]
    },
    {
      "cell_type": "code",
      "metadata": {
        "id": "N8WP-3S9ORqr"
      },
      "source": [
        "rf = RandomForestRegressor()\n",
        "rf.fit(X_train, y_train)\n",
        "prediction=rf.predict(X_test)"
      ],
      "execution_count": 51,
      "outputs": []
    },
    {
      "cell_type": "code",
      "metadata": {
        "id": "AC12Y3znkqTs",
        "colab": {
          "base_uri": "https://localhost:8080/"
        },
        "outputId": "bd00c6a8-d083-4753-b59f-bbf02d9f9d93"
      },
      "source": [
        "print(prediction[:10])\n",
        "print(y_test[:10])\n",
        "print('Mean Squared error: ',mean_squared_error(prediction,y_test))"
      ],
      "execution_count": 52,
      "outputs": [
        {
          "output_type": "stream",
          "text": [
            "[0.12910538 0.38383745 0.22822389 0.32270705 0.38222651 0.18358077\n",
            " 0.37763033 0.61651534 0.4384107  0.33845131]\n",
            "92      0.041275\n",
            "2133    0.705509\n",
            "895     0.105080\n",
            "1721    0.355601\n",
            "1300    0.385555\n",
            "868     0.127384\n",
            "702     0.109907\n",
            "2494    0.719807\n",
            "861     0.113606\n",
            "1032    0.194583\n",
            "Name: Close, dtype: float64\n",
            "Mean Squared error:  0.04984892840704085\n"
          ],
          "name": "stdout"
        }
      ]
    },
    {
      "cell_type": "markdown",
      "metadata": {
        "id": "MneJSUg_tJ2y"
      },
      "source": [
        "DecisionTreeRegressor"
      ]
    },
    {
      "cell_type": "code",
      "metadata": {
        "id": "09rK_V74kr1_"
      },
      "source": [
        "dtr = DecisionTreeRegressor()\n",
        "dtr.fit(X_train, y_train)\n",
        "predictions = dtr.predict(X_test)"
      ],
      "execution_count": 55,
      "outputs": []
    },
    {
      "cell_type": "code",
      "metadata": {
        "id": "Uc70pUFKtmn-",
        "colab": {
          "base_uri": "https://localhost:8080/"
        },
        "outputId": "e6b63b1f-231a-43fc-e2d3-61976fda1ede"
      },
      "source": [
        "print(predictions[:10])\n",
        "print(y_test[:10])\n",
        "print('Mean Squared error: ',mean_squared_error(predictions,y_test))"
      ],
      "execution_count": 56,
      "outputs": [
        {
          "output_type": "stream",
          "text": [
            "[0.08125186 0.22136341 0.16856055 0.09628211 0.625017   0.28486887\n",
            " 0.00970859 0.66191206 0.64912967 0.41399795]\n",
            "92      0.041275\n",
            "2133    0.705509\n",
            "895     0.105080\n",
            "1721    0.355601\n",
            "1300    0.385555\n",
            "868     0.127384\n",
            "702     0.109907\n",
            "2494    0.719807\n",
            "861     0.113606\n",
            "1032    0.194583\n",
            "Name: Close, dtype: float64\n",
            "Mean Squared error:  0.09182795810959156\n"
          ],
          "name": "stdout"
        }
      ]
    },
    {
      "cell_type": "markdown",
      "metadata": {
        "id": "rMzHdINAt3ZL"
      },
      "source": [
        "AdaBoostRegressor"
      ]
    },
    {
      "cell_type": "code",
      "metadata": {
        "id": "rrpKmGDUtyQG",
        "colab": {
          "base_uri": "https://localhost:8080/"
        },
        "outputId": "a0c58443-02ca-4847-ca1d-de83a8779433"
      },
      "source": [
        "adb = AdaBoostRegressor()\n",
        "adb.fit(X_train, y_train)"
      ],
      "execution_count": 57,
      "outputs": [
        {
          "output_type": "execute_result",
          "data": {
            "text/plain": [
              "AdaBoostRegressor(base_estimator=None, learning_rate=1.0, loss='linear',\n",
              "                  n_estimators=50, random_state=None)"
            ]
          },
          "metadata": {
            "tags": []
          },
          "execution_count": 57
        }
      ]
    },
    {
      "cell_type": "code",
      "metadata": {
        "id": "34raTiWZtyS_",
        "colab": {
          "base_uri": "https://localhost:8080/"
        },
        "outputId": "15e57d37-2438-4a3e-f97d-f9de6ed97d16"
      },
      "source": [
        "predictions = adb.predict(X_test)\n",
        "print(mean_squared_error(predictions, y_test))"
      ],
      "execution_count": 58,
      "outputs": [
        {
          "output_type": "stream",
          "text": [
            "0.05466456730168858\n"
          ],
          "name": "stdout"
        }
      ]
    },
    {
      "cell_type": "markdown",
      "metadata": {
        "id": "K5y-5qss2YXp"
      },
      "source": [
        "Light GBM"
      ]
    },
    {
      "cell_type": "code",
      "metadata": {
        "id": "DkQtYOZztyWn",
        "colab": {
          "base_uri": "https://localhost:8080/"
        },
        "outputId": "1f87326d-f32b-4e37-c406-6f55ae182edf"
      },
      "source": [
        "gbm = lightgbm.LGBMRegressor()\n",
        "gbm.fit(X_train, y_train)"
      ],
      "execution_count": 59,
      "outputs": [
        {
          "output_type": "execute_result",
          "data": {
            "text/plain": [
              "LGBMRegressor(boosting_type='gbdt', class_weight=None, colsample_bytree=1.0,\n",
              "              importance_type='split', learning_rate=0.1, max_depth=-1,\n",
              "              min_child_samples=20, min_child_weight=0.001, min_split_gain=0.0,\n",
              "              n_estimators=100, n_jobs=-1, num_leaves=31, objective=None,\n",
              "              random_state=None, reg_alpha=0.0, reg_lambda=0.0, silent=True,\n",
              "              subsample=1.0, subsample_for_bin=200000, subsample_freq=0)"
            ]
          },
          "metadata": {
            "tags": []
          },
          "execution_count": 59
        }
      ]
    },
    {
      "cell_type": "code",
      "metadata": {
        "id": "Dk7FNsZEwPRo",
        "colab": {
          "base_uri": "https://localhost:8080/"
        },
        "outputId": "343f187a-e5ad-4e5f-ad16-b6c8f598f4a0"
      },
      "source": [
        "predictions = gbm.predict(X_test)\n",
        "print(mean_squared_error(predictions, y_test))"
      ],
      "execution_count": 60,
      "outputs": [
        {
          "output_type": "stream",
          "text": [
            "0.04977115504616173\n"
          ],
          "name": "stdout"
        }
      ]
    },
    {
      "cell_type": "markdown",
      "metadata": {
        "id": "yi1s_GwY2Uos"
      },
      "source": [
        "Xgboost"
      ]
    },
    {
      "cell_type": "code",
      "metadata": {
        "id": "LgWNANt5wPVD",
        "colab": {
          "base_uri": "https://localhost:8080/"
        },
        "outputId": "4c03cd3d-cf8f-43b5-bb25-ab32b48e4b81"
      },
      "source": [
        "xgb = xgboost.XGBRegressor()\n",
        "xgb.fit(X_train, y_train)"
      ],
      "execution_count": 61,
      "outputs": [
        {
          "output_type": "stream",
          "text": [
            "[08:29:04] WARNING: /workspace/src/objective/regression_obj.cu:152: reg:linear is now deprecated in favor of reg:squarederror.\n"
          ],
          "name": "stdout"
        },
        {
          "output_type": "execute_result",
          "data": {
            "text/plain": [
              "XGBRegressor(base_score=0.5, booster='gbtree', colsample_bylevel=1,\n",
              "             colsample_bynode=1, colsample_bytree=1, gamma=0,\n",
              "             importance_type='gain', learning_rate=0.1, max_delta_step=0,\n",
              "             max_depth=3, min_child_weight=1, missing=None, n_estimators=100,\n",
              "             n_jobs=1, nthread=None, objective='reg:linear', random_state=0,\n",
              "             reg_alpha=0, reg_lambda=1, scale_pos_weight=1, seed=None,\n",
              "             silent=None, subsample=1, verbosity=1)"
            ]
          },
          "metadata": {
            "tags": []
          },
          "execution_count": 61
        }
      ]
    },
    {
      "cell_type": "code",
      "metadata": {
        "id": "UM7hCcBbwwCf",
        "colab": {
          "base_uri": "https://localhost:8080/"
        },
        "outputId": "070507d6-ffc5-4bb8-fd33-277503e841cd"
      },
      "source": [
        "predictions = xgb.predict(X_test)\n",
        "print(mean_squared_error(predictions, y_test))"
      ],
      "execution_count": 62,
      "outputs": [
        {
          "output_type": "stream",
          "text": [
            "0.04832368478308566\n"
          ],
          "name": "stdout"
        }
      ]
    },
    {
      "cell_type": "code",
      "metadata": {
        "id": "datw_wVzI-D4"
      },
      "source": [
        "#hyperparameter tuning\n",
        "params={\n",
        "    'learning_rate'   : [0.05, 0.10, 0.15, 0.20, 0.25, 0.30],\n",
        "    'max_depth'       : [3,4,5,6,8,10,12],\n",
        "    'min_child_weight': [1,3,5,7],\n",
        "    'gamma'           : [0.0, 0.1,0.2,0.3,0.4]\n",
        "    \n",
        "}"
      ],
      "execution_count": 63,
      "outputs": []
    },
    {
      "cell_type": "code",
      "metadata": {
        "id": "A-Bf755gJPSW",
        "colab": {
          "base_uri": "https://localhost:8080/"
        },
        "outputId": "93410350-ca94-44d3-bc93-ed33dc29fc5d"
      },
      "source": [
        "Xgreg=xgboost.XGBRegressor()\n",
        "Xgreg=RandomizedSearchCV(Xgreg,param_distributions=params,cv=10,verbose=False)\n",
        "Xgreg.fit(X_train,y_train)"
      ],
      "execution_count": 64,
      "outputs": [
        {
          "output_type": "stream",
          "text": [
            "[08:29:17] WARNING: /workspace/src/objective/regression_obj.cu:152: reg:linear is now deprecated in favor of reg:squarederror.\n",
            "[08:29:17] WARNING: /workspace/src/objective/regression_obj.cu:152: reg:linear is now deprecated in favor of reg:squarederror.\n",
            "[08:29:17] WARNING: /workspace/src/objective/regression_obj.cu:152: reg:linear is now deprecated in favor of reg:squarederror.\n",
            "[08:29:17] WARNING: /workspace/src/objective/regression_obj.cu:152: reg:linear is now deprecated in favor of reg:squarederror.\n",
            "[08:29:17] WARNING: /workspace/src/objective/regression_obj.cu:152: reg:linear is now deprecated in favor of reg:squarederror.\n",
            "[08:29:17] WARNING: /workspace/src/objective/regression_obj.cu:152: reg:linear is now deprecated in favor of reg:squarederror.\n",
            "[08:29:17] WARNING: /workspace/src/objective/regression_obj.cu:152: reg:linear is now deprecated in favor of reg:squarederror.\n",
            "[08:29:18] WARNING: /workspace/src/objective/regression_obj.cu:152: reg:linear is now deprecated in favor of reg:squarederror.\n",
            "[08:29:18] WARNING: /workspace/src/objective/regression_obj.cu:152: reg:linear is now deprecated in favor of reg:squarederror.\n",
            "[08:29:18] WARNING: /workspace/src/objective/regression_obj.cu:152: reg:linear is now deprecated in favor of reg:squarederror.\n",
            "[08:29:18] WARNING: /workspace/src/objective/regression_obj.cu:152: reg:linear is now deprecated in favor of reg:squarederror.\n",
            "[08:29:18] WARNING: /workspace/src/objective/regression_obj.cu:152: reg:linear is now deprecated in favor of reg:squarederror.\n",
            "[08:29:18] WARNING: /workspace/src/objective/regression_obj.cu:152: reg:linear is now deprecated in favor of reg:squarederror.\n",
            "[08:29:19] WARNING: /workspace/src/objective/regression_obj.cu:152: reg:linear is now deprecated in favor of reg:squarederror.\n",
            "[08:29:19] WARNING: /workspace/src/objective/regression_obj.cu:152: reg:linear is now deprecated in favor of reg:squarederror.\n",
            "[08:29:19] WARNING: /workspace/src/objective/regression_obj.cu:152: reg:linear is now deprecated in favor of reg:squarederror.\n",
            "[08:29:20] WARNING: /workspace/src/objective/regression_obj.cu:152: reg:linear is now deprecated in favor of reg:squarederror.\n",
            "[08:29:20] WARNING: /workspace/src/objective/regression_obj.cu:152: reg:linear is now deprecated in favor of reg:squarederror.\n",
            "[08:29:20] WARNING: /workspace/src/objective/regression_obj.cu:152: reg:linear is now deprecated in favor of reg:squarederror.\n",
            "[08:29:20] WARNING: /workspace/src/objective/regression_obj.cu:152: reg:linear is now deprecated in favor of reg:squarederror.\n",
            "[08:29:21] WARNING: /workspace/src/objective/regression_obj.cu:152: reg:linear is now deprecated in favor of reg:squarederror.\n",
            "[08:29:21] WARNING: /workspace/src/objective/regression_obj.cu:152: reg:linear is now deprecated in favor of reg:squarederror.\n",
            "[08:29:21] WARNING: /workspace/src/objective/regression_obj.cu:152: reg:linear is now deprecated in favor of reg:squarederror.\n",
            "[08:29:21] WARNING: /workspace/src/objective/regression_obj.cu:152: reg:linear is now deprecated in favor of reg:squarederror.\n",
            "[08:29:21] WARNING: /workspace/src/objective/regression_obj.cu:152: reg:linear is now deprecated in favor of reg:squarederror.\n",
            "[08:29:21] WARNING: /workspace/src/objective/regression_obj.cu:152: reg:linear is now deprecated in favor of reg:squarederror.\n",
            "[08:29:21] WARNING: /workspace/src/objective/regression_obj.cu:152: reg:linear is now deprecated in favor of reg:squarederror.\n",
            "[08:29:22] WARNING: /workspace/src/objective/regression_obj.cu:152: reg:linear is now deprecated in favor of reg:squarederror.\n",
            "[08:29:22] WARNING: /workspace/src/objective/regression_obj.cu:152: reg:linear is now deprecated in favor of reg:squarederror.\n",
            "[08:29:22] WARNING: /workspace/src/objective/regression_obj.cu:152: reg:linear is now deprecated in favor of reg:squarederror.\n",
            "[08:29:22] WARNING: /workspace/src/objective/regression_obj.cu:152: reg:linear is now deprecated in favor of reg:squarederror.\n",
            "[08:29:22] WARNING: /workspace/src/objective/regression_obj.cu:152: reg:linear is now deprecated in favor of reg:squarederror.\n",
            "[08:29:22] WARNING: /workspace/src/objective/regression_obj.cu:152: reg:linear is now deprecated in favor of reg:squarederror.\n",
            "[08:29:23] WARNING: /workspace/src/objective/regression_obj.cu:152: reg:linear is now deprecated in favor of reg:squarederror.\n",
            "[08:29:23] WARNING: /workspace/src/objective/regression_obj.cu:152: reg:linear is now deprecated in favor of reg:squarederror.\n",
            "[08:29:23] WARNING: /workspace/src/objective/regression_obj.cu:152: reg:linear is now deprecated in favor of reg:squarederror.\n",
            "[08:29:23] WARNING: /workspace/src/objective/regression_obj.cu:152: reg:linear is now deprecated in favor of reg:squarederror.\n",
            "[08:29:24] WARNING: /workspace/src/objective/regression_obj.cu:152: reg:linear is now deprecated in favor of reg:squarederror.\n",
            "[08:29:24] WARNING: /workspace/src/objective/regression_obj.cu:152: reg:linear is now deprecated in favor of reg:squarederror.\n",
            "[08:29:24] WARNING: /workspace/src/objective/regression_obj.cu:152: reg:linear is now deprecated in favor of reg:squarederror.\n",
            "[08:29:24] WARNING: /workspace/src/objective/regression_obj.cu:152: reg:linear is now deprecated in favor of reg:squarederror.\n",
            "[08:29:24] WARNING: /workspace/src/objective/regression_obj.cu:152: reg:linear is now deprecated in favor of reg:squarederror.\n",
            "[08:29:25] WARNING: /workspace/src/objective/regression_obj.cu:152: reg:linear is now deprecated in favor of reg:squarederror.\n",
            "[08:29:25] WARNING: /workspace/src/objective/regression_obj.cu:152: reg:linear is now deprecated in favor of reg:squarederror.\n",
            "[08:29:25] WARNING: /workspace/src/objective/regression_obj.cu:152: reg:linear is now deprecated in favor of reg:squarederror.\n",
            "[08:29:26] WARNING: /workspace/src/objective/regression_obj.cu:152: reg:linear is now deprecated in favor of reg:squarederror.\n",
            "[08:29:26] WARNING: /workspace/src/objective/regression_obj.cu:152: reg:linear is now deprecated in favor of reg:squarederror.\n",
            "[08:29:26] WARNING: /workspace/src/objective/regression_obj.cu:152: reg:linear is now deprecated in favor of reg:squarederror.\n",
            "[08:29:26] WARNING: /workspace/src/objective/regression_obj.cu:152: reg:linear is now deprecated in favor of reg:squarederror.\n",
            "[08:29:27] WARNING: /workspace/src/objective/regression_obj.cu:152: reg:linear is now deprecated in favor of reg:squarederror.\n",
            "[08:29:27] WARNING: /workspace/src/objective/regression_obj.cu:152: reg:linear is now deprecated in favor of reg:squarederror.\n",
            "[08:29:27] WARNING: /workspace/src/objective/regression_obj.cu:152: reg:linear is now deprecated in favor of reg:squarederror.\n",
            "[08:29:27] WARNING: /workspace/src/objective/regression_obj.cu:152: reg:linear is now deprecated in favor of reg:squarederror.\n",
            "[08:29:27] WARNING: /workspace/src/objective/regression_obj.cu:152: reg:linear is now deprecated in favor of reg:squarederror.\n",
            "[08:29:28] WARNING: /workspace/src/objective/regression_obj.cu:152: reg:linear is now deprecated in favor of reg:squarederror.\n",
            "[08:29:28] WARNING: /workspace/src/objective/regression_obj.cu:152: reg:linear is now deprecated in favor of reg:squarederror.\n",
            "[08:29:28] WARNING: /workspace/src/objective/regression_obj.cu:152: reg:linear is now deprecated in favor of reg:squarederror.\n",
            "[08:29:28] WARNING: /workspace/src/objective/regression_obj.cu:152: reg:linear is now deprecated in favor of reg:squarederror.\n",
            "[08:29:28] WARNING: /workspace/src/objective/regression_obj.cu:152: reg:linear is now deprecated in favor of reg:squarederror.\n",
            "[08:29:29] WARNING: /workspace/src/objective/regression_obj.cu:152: reg:linear is now deprecated in favor of reg:squarederror.\n",
            "[08:29:29] WARNING: /workspace/src/objective/regression_obj.cu:152: reg:linear is now deprecated in favor of reg:squarederror.\n",
            "[08:29:29] WARNING: /workspace/src/objective/regression_obj.cu:152: reg:linear is now deprecated in favor of reg:squarederror.\n",
            "[08:29:29] WARNING: /workspace/src/objective/regression_obj.cu:152: reg:linear is now deprecated in favor of reg:squarederror.\n",
            "[08:29:29] WARNING: /workspace/src/objective/regression_obj.cu:152: reg:linear is now deprecated in favor of reg:squarederror.\n",
            "[08:29:29] WARNING: /workspace/src/objective/regression_obj.cu:152: reg:linear is now deprecated in favor of reg:squarederror.\n",
            "[08:29:29] WARNING: /workspace/src/objective/regression_obj.cu:152: reg:linear is now deprecated in favor of reg:squarederror.\n",
            "[08:29:30] WARNING: /workspace/src/objective/regression_obj.cu:152: reg:linear is now deprecated in favor of reg:squarederror.\n",
            "[08:29:30] WARNING: /workspace/src/objective/regression_obj.cu:152: reg:linear is now deprecated in favor of reg:squarederror.\n",
            "[08:29:30] WARNING: /workspace/src/objective/regression_obj.cu:152: reg:linear is now deprecated in favor of reg:squarederror.\n",
            "[08:29:30] WARNING: /workspace/src/objective/regression_obj.cu:152: reg:linear is now deprecated in favor of reg:squarederror.\n",
            "[08:29:30] WARNING: /workspace/src/objective/regression_obj.cu:152: reg:linear is now deprecated in favor of reg:squarederror.\n",
            "[08:29:30] WARNING: /workspace/src/objective/regression_obj.cu:152: reg:linear is now deprecated in favor of reg:squarederror.\n",
            "[08:29:31] WARNING: /workspace/src/objective/regression_obj.cu:152: reg:linear is now deprecated in favor of reg:squarederror.\n",
            "[08:29:31] WARNING: /workspace/src/objective/regression_obj.cu:152: reg:linear is now deprecated in favor of reg:squarederror.\n",
            "[08:29:31] WARNING: /workspace/src/objective/regression_obj.cu:152: reg:linear is now deprecated in favor of reg:squarederror.\n",
            "[08:29:31] WARNING: /workspace/src/objective/regression_obj.cu:152: reg:linear is now deprecated in favor of reg:squarederror.\n",
            "[08:29:31] WARNING: /workspace/src/objective/regression_obj.cu:152: reg:linear is now deprecated in favor of reg:squarederror.\n",
            "[08:29:31] WARNING: /workspace/src/objective/regression_obj.cu:152: reg:linear is now deprecated in favor of reg:squarederror.\n",
            "[08:29:31] WARNING: /workspace/src/objective/regression_obj.cu:152: reg:linear is now deprecated in favor of reg:squarederror.\n",
            "[08:29:31] WARNING: /workspace/src/objective/regression_obj.cu:152: reg:linear is now deprecated in favor of reg:squarederror.\n",
            "[08:29:32] WARNING: /workspace/src/objective/regression_obj.cu:152: reg:linear is now deprecated in favor of reg:squarederror.\n",
            "[08:29:32] WARNING: /workspace/src/objective/regression_obj.cu:152: reg:linear is now deprecated in favor of reg:squarederror.\n",
            "[08:29:32] WARNING: /workspace/src/objective/regression_obj.cu:152: reg:linear is now deprecated in favor of reg:squarederror.\n",
            "[08:29:32] WARNING: /workspace/src/objective/regression_obj.cu:152: reg:linear is now deprecated in favor of reg:squarederror.\n",
            "[08:29:32] WARNING: /workspace/src/objective/regression_obj.cu:152: reg:linear is now deprecated in favor of reg:squarederror.\n",
            "[08:29:32] WARNING: /workspace/src/objective/regression_obj.cu:152: reg:linear is now deprecated in favor of reg:squarederror.\n",
            "[08:29:32] WARNING: /workspace/src/objective/regression_obj.cu:152: reg:linear is now deprecated in favor of reg:squarederror.\n",
            "[08:29:32] WARNING: /workspace/src/objective/regression_obj.cu:152: reg:linear is now deprecated in favor of reg:squarederror.\n",
            "[08:29:33] WARNING: /workspace/src/objective/regression_obj.cu:152: reg:linear is now deprecated in favor of reg:squarederror.\n",
            "[08:29:33] WARNING: /workspace/src/objective/regression_obj.cu:152: reg:linear is now deprecated in favor of reg:squarederror.\n",
            "[08:29:33] WARNING: /workspace/src/objective/regression_obj.cu:152: reg:linear is now deprecated in favor of reg:squarederror.\n",
            "[08:29:33] WARNING: /workspace/src/objective/regression_obj.cu:152: reg:linear is now deprecated in favor of reg:squarederror.\n",
            "[08:29:33] WARNING: /workspace/src/objective/regression_obj.cu:152: reg:linear is now deprecated in favor of reg:squarederror.\n",
            "[08:29:34] WARNING: /workspace/src/objective/regression_obj.cu:152: reg:linear is now deprecated in favor of reg:squarederror.\n",
            "[08:29:34] WARNING: /workspace/src/objective/regression_obj.cu:152: reg:linear is now deprecated in favor of reg:squarederror.\n",
            "[08:29:34] WARNING: /workspace/src/objective/regression_obj.cu:152: reg:linear is now deprecated in favor of reg:squarederror.\n",
            "[08:29:35] WARNING: /workspace/src/objective/regression_obj.cu:152: reg:linear is now deprecated in favor of reg:squarederror.\n",
            "[08:29:35] WARNING: /workspace/src/objective/regression_obj.cu:152: reg:linear is now deprecated in favor of reg:squarederror.\n",
            "[08:29:35] WARNING: /workspace/src/objective/regression_obj.cu:152: reg:linear is now deprecated in favor of reg:squarederror.\n",
            "[08:29:35] WARNING: /workspace/src/objective/regression_obj.cu:152: reg:linear is now deprecated in favor of reg:squarederror.\n",
            "[08:29:36] WARNING: /workspace/src/objective/regression_obj.cu:152: reg:linear is now deprecated in favor of reg:squarederror.\n"
          ],
          "name": "stdout"
        },
        {
          "output_type": "execute_result",
          "data": {
            "text/plain": [
              "RandomizedSearchCV(cv=10, error_score=nan,\n",
              "                   estimator=XGBRegressor(base_score=0.5, booster='gbtree',\n",
              "                                          colsample_bylevel=1,\n",
              "                                          colsample_bynode=1,\n",
              "                                          colsample_bytree=1, gamma=0,\n",
              "                                          importance_type='gain',\n",
              "                                          learning_rate=0.1, max_delta_step=0,\n",
              "                                          max_depth=3, min_child_weight=1,\n",
              "                                          missing=None, n_estimators=100,\n",
              "                                          n_jobs=1, nthread=None,\n",
              "                                          objective='reg:linear',\n",
              "                                          random_state=0, reg_alpha=0,\n",
              "                                          reg_lambda=1, scale_pos_weight=1,\n",
              "                                          seed=None, silent=None, subsample=1,\n",
              "                                          verbosity=1),\n",
              "                   iid='deprecated', n_iter=10, n_jobs=None,\n",
              "                   param_distributions={'gamma': [0.0, 0.1, 0.2, 0.3, 0.4],\n",
              "                                        'learning_rate': [0.05, 0.1, 0.15, 0.2,\n",
              "                                                          0.25, 0.3],\n",
              "                                        'max_depth': [3, 4, 5, 6, 8, 10, 12],\n",
              "                                        'min_child_weight': [1, 3, 5, 7]},\n",
              "                   pre_dispatch='2*n_jobs', random_state=None, refit=True,\n",
              "                   return_train_score=False, scoring=None, verbose=False)"
            ]
          },
          "metadata": {
            "tags": []
          },
          "execution_count": 64
        }
      ]
    },
    {
      "cell_type": "code",
      "metadata": {
        "colab": {
          "base_uri": "https://localhost:8080/"
        },
        "id": "n6IkqzqH1Ynh",
        "outputId": "48bf297f-5e70-474e-9e3d-b95bbc0de9a0"
      },
      "source": [
        "predictions = Xgreg.predict(X_test)\n",
        "print(mean_squared_error(predictions, y_test))"
      ],
      "execution_count": 65,
      "outputs": [
        {
          "output_type": "stream",
          "text": [
            "0.04876030512877993\n"
          ],
          "name": "stdout"
        }
      ]
    },
    {
      "cell_type": "markdown",
      "metadata": {
        "id": "nftJDoY_Bt7C"
      },
      "source": [
        "## Conclusion\n",
        "\n",
        "I was able to create a hybrid model for stock price/performance prediction using numerical analysis of historical stock prices, and sentimental analysis of news headlines.¶"
      ]
    }
  ]
}